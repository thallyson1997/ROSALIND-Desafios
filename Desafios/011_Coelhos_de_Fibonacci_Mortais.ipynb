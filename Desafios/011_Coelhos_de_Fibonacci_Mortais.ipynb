{
 "cells": [
  {
   "cell_type": "markdown",
   "id": "8b9eca5c",
   "metadata": {},
   "source": [
    "# Temporada de Coelhos"
   ]
  },
  {
   "cell_type": "markdown",
   "id": "77c8b690",
   "metadata": {},
   "source": [
    "Em “Coelhos e Relações de Recorrência”, mencionamos o desastre causado pela introdução de coelhos europeus na Austrália. No início do século XX, a situação estava tão fora de controle que os animais não podiam ser mortos rápido o suficiente para conter sua expansão (veja a Figura 1).\n",
    "\n",
    "![Figura 1](https://rosalind.info/media/problems/fibd/rabbit_skins.png)\n",
    "\n",
    "> **Figura 1.** Uma fotografia de cerca de 1905 na Austrália, mostrando uma carroça carregada até o topo com peles de coelho.\n",
    "\n",
    "A solução? Construir uma cerca! A cerca, projetada para preservar a santidade da Austrália Ocidental, foi concluída em 1907 após diversas revisões, movendo-a cada vez mais para o oeste conforme os coelhos avançavam sua fronteira (veja a Figura 2). Se parecer uma ideia maluca, os próprios australianos da época pareciam concordar, como mostra a charge da Figura 3.\n",
    "\n",
    "![Figura 2](https://rosalind.info/media/problems/fibd/rabbit_fence.png)\n",
    "\n",
    "> **Figura 2.** A cerca para coelhos da Austrália Ocidental não é, na verdade, a mais longa do mundo, como afirma a placa. Essa honra pertence a uma cerca de 5.600 km no sudeste da Austrália, construída para manter os dingos afastados. Cortesia de Matt Pounsett.\n",
    "\n",
    "![Figura 3](https://rosalind.info/media/problems/fibd/rabbit_tennis.png)\n",
    "\n",
    "> **Figura 3.** Uma charge de 1884 do *Queensland Figaro* sugerindo como os coelhos viam a cerca.\n",
    "\n",
    "Em 1950, a população de coelhos na Austrália chegava a 600 milhões, levando o governo a liberar um vírus (chamado *myxoma*) na natureza, que reduziu drasticamente o número de coelhos — até que eles adquiriram resistência. Em uma reviravolta digna de Hollywood, outro vírus experimental escapou em 1991, e já foi observada certa resistência a ele também.\n",
    "\n",
    "Os coelhos não serão detidos — mas eles **não vivem para sempre**. Por isso, neste problema, nosso objetivo é **expandir o modelo populacional de coelhos de Fibonacci** para considerar **coelhos mortais**.\n",
    "\n",
    "Link: [Mortal Fibonacci Rabbits](https://rosalind.info/problems/fibd/)"
   ]
  },
  {
   "cell_type": "markdown",
   "id": "68784321",
   "metadata": {},
   "source": [
    "### **Problema**\n",
    "\n",
    "Lembre-se da definição dos números de Fibonacci no problema “Coelhos e Relações de Recorrência”, que seguia a relação de recorrência:\n",
    "`Fₙ = Fₙ₋₁ + Fₙ₋₂`\n",
    "e assumia que cada par de coelhos atinge a maturidade em um mês e produz um novo par de filhotes (um macho e uma fêmea) a cada mês subsequente.\n",
    "\n",
    "Nosso objetivo é **modificar essa relação de recorrência** para permitir uma solução via **programação dinâmica** no caso em que todos os coelhos morrem após um número fixo de meses. Veja a Figura 4 para uma representação de uma árvore de coelhos em que cada um vive por três meses (ou seja, se reproduzem apenas duas vezes antes de morrer).\n",
    "\n",
    "![Figura 4](https://rosalind.info/media/problems/fibd/mortal_rabbit_tree.png)\n",
    "\n",
    "> **Figura 4.** Uma figura ilustrando a propagação dos coelhos de Fibonacci, considerando que eles morrem após três meses.\n",
    "\n",
    "**Dado**: Dois inteiros positivos `n ≤ 100` e `m ≤ 20`.\n",
    "\n",
    "**Retorne**: O número total de pares de coelhos restantes após o mês `n`, assumindo que **todos os coelhos vivem por `m` meses**."
   ]
  },
  {
   "cell_type": "code",
   "execution_count": 1,
   "id": "f4fcf874",
   "metadata": {},
   "outputs": [],
   "source": [
    "#Insira o caminho abaixo\n",
    "caminho = \"C:\\\\Users\\\\usuario\\\\OneDrive\\\\Área de Trabalho\\\\Nova pasta\\\\ROSALIND-Desafios\\\\Dados\\\\rosalind_fibd.txt\"\n",
    "\n",
    "with open(caminho, \"r\", encoding=\"utf-8\") as arquivo:\n",
    "    texto = arquivo.read()\n",
    "    n = int(texto.split(' ')[0])\n",
    "    m = int(texto.split(' ')[1])"
   ]
  },
  {
   "cell_type": "code",
   "execution_count": 2,
   "id": "740f5add",
   "metadata": {},
   "outputs": [
    {
     "name": "stdout",
     "output_type": "stream",
     "text": [
      "417929742755482295\n"
     ]
    }
   ],
   "source": [
    "def coelhos(n, m):\n",
    "    coelhos = [0 for _ in range(m)]\n",
    "    mes = 0\n",
    "    while mes < n:\n",
    "        if mes == 0:\n",
    "            coelhos[-1] = 1\n",
    "        else:\n",
    "            bebes = sum(coelhos[:-1])\n",
    "            for i in range(len(coelhos) - 1):\n",
    "                coelhos[i] = coelhos[i + 1]\n",
    "            coelhos[-1] = bebes\n",
    "        mes += 1\n",
    "    return sum(coelhos)\n",
    "\n",
    "texto = coelhos(n, m)\n",
    "print(texto)"
   ]
  },
  {
   "cell_type": "code",
   "execution_count": 3,
   "id": "caeef181",
   "metadata": {},
   "outputs": [],
   "source": [
    "# Caminho para o arquivo dentro da pasta Output\n",
    "caminho = \"C:\\\\Users\\\\usuario\\\\OneDrive\\\\Área de Trabalho\\\\Nova pasta\\\\ROSALIND-Desafios\\\\Saidas\\\\rosalind_fibd_output.txt\"\n",
    "\n",
    "with open(caminho, \"w\", encoding=\"utf-8\") as arquivo:\n",
    "    arquivo.write(str(texto))"
   ]
  }
 ],
 "metadata": {
  "kernelspec": {
   "display_name": "Python 3",
   "language": "python",
   "name": "python3"
  },
  "language_info": {
   "codemirror_mode": {
    "name": "ipython",
    "version": 3
   },
   "file_extension": ".py",
   "mimetype": "text/x-python",
   "name": "python",
   "nbconvert_exporter": "python",
   "pygments_lexer": "ipython3",
   "version": "3.13.2"
  }
 },
 "nbformat": 4,
 "nbformat_minor": 5
}
