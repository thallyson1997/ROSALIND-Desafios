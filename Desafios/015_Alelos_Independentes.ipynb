{
 "cells": [
  {
   "cell_type": "markdown",
   "id": "9fe9ee21",
   "metadata": {},
   "source": [
    "# Alelos Independentes"
   ]
  },
  {
   "cell_type": "markdown",
   "id": "5b34a390",
   "metadata": {},
   "source": [
    "Lembre-se de que a primeira lei de Mendel afirma que, para qualquer fator, um indivíduo atribui aleatoriamente um de seus dois alelos aos seus descendentes. No entanto, essa lei não diz nada sobre a relação entre os alelos de diferentes fatores durante a herança.\n",
    "\n",
    "Após registrar os resultados do cruzamento de milhares de plantas de ervilha durante sete anos, Mendel concluiu que os alelos de diferentes fatores são herdados sem dependência entre si. Essa afirmação tornou-se sua segunda lei, também conhecida como a lei da segregação independente.\n",
    "\n",
    "O que significa dizer que os fatores são “segregados independentemente”? Se cruzarmos dois organismos, uma forma resumida da segregação independente afirma que, se analisarmos apenas os organismos com os mesmos alelos para um fator, a herança de outro fator não deve mudar.\n",
    "\n",
    "Por exemplo, a primeira lei de Mendel afirma que, se cruzarmos dois organismos Aa, então 1/4 de seus descendentes serão aa, 1/4 serão AA, e 1/2 serão Aa. Agora, suponha que cruzamos plantas heterozigotas para dois fatores, de modo que ambos os genótipos podem ser escritos como Aa Bb. Em seguida, analisando apenas os descendentes Bb, a segunda lei de Mendel afirma que as mesmas proporções de indivíduos AA, Aa e aa serão observadas nesses descendentes. O mesmo vale para os descendentes BB e bb.\n",
    "\n",
    "Como resultado, a independência nos permite afirmar que a probabilidade de um descendente aa BB é simplesmente igual à probabilidade de um descendente aa multiplicada pela probabilidade de um descendente BB, ou seja, 1/16.\n",
    "\n",
    "Devido à independência, também podemos estender a ideia de quadros de Punnett para múltiplos fatores, como mostrado na Figura 1. Agora queremos quantificar a noção de independência de Mendel usando probabilidade.\n",
    "\n",
    "![Figura 1](https://rosalind.info/media/problems/lia/dihybrid_cross.png)\n",
    "\n",
    "> Figura 1. A segunda lei de Mendel determina que cada uma das 16 possíveis combinações de alelos parentais é igualmente provável. O quadro de Punnett para dois fatores coloca cada uma dessas combinações em uma célula de uma tabela 4 × 4. A probabilidade do genótipo de um descendente é igual ao número de vezes que ele aparece na tabela, dividido por 16.\n",
    "\n",
    "Link: [Independent Alleles](https://rosalind.info/problems/lia/)"
   ]
  },
  {
   "cell_type": "markdown",
   "id": "d2d7b884",
   "metadata": {},
   "source": [
    "### **Problema**\n",
    "\n",
    "Dois eventos A e B são independentes se Pr(A e B) for igual a Pr(A) × Pr(B). Em outras palavras, os eventos não influenciam um ao outro, de modo que podemos calcular separadamente cada uma das probabilidades individuais e, em seguida, multiplicá-las.\n",
    "\n",
    "De forma mais geral, variáveis aleatórias X e Y são independentes se, sempre que A e B são eventos respectivos para X e Y, A e B forem independentes (isto é, Pr(A e B) = Pr(A) × Pr(B)).\n",
    "\n",
    "Como exemplo de como a independência pode ser útil no cálculo de probabilidades, seja X e Y os números que aparecem em dois dados de seis faces. Intuitivamente, o número de pontos em um dado não deve afetar o número que aparece no outro dado.\n",
    "\n",
    "Se quisermos encontrar a probabilidade de que X + Y seja ímpar, não precisamos desenhar um diagrama de árvore e considerar todas as possibilidades. Podemos simplesmente notar que, para X + Y ser ímpar, ou X é par e Y é ímpar, ou X é ímpar e Y é par. Em termos de probabilidade:\n",
    "\n",
    "Pr(X + Y é ímpar) = Pr(X é par e Y é ímpar) + Pr(X é ímpar e Y é par)\n",
    "\n",
    "Usando a independência, isso se torna:\n",
    "\n",
    "[Pr(X é par) × Pr(Y é ímpar)] + [Pr(X é ímpar) × Pr(Y é par)], ou seja, (1/2)² + (1/2)² = 1/2.\n",
    "\n",
    "Você pode verificar esse resultado na Figura 2, que mostra todos os 36 resultados possíveis ao lançar dois dados.\n",
    "\n",
    "![Figura 2](https://rosalind.info/media/problems/lia/two_dice.png)\n",
    "\n",
    "> **Figura 2.** A probabilidade de cada resultado para a soma dos valores em dois dados lançados (um preto e um branco), dividida de acordo com o número de pontos em cada dado. Você pode verificar que 18 das 36 possibilidades igualmente prováveis resultam em uma soma ímpar.\n",
    "\n",
    "**Dado**: Dois números inteiros positivos k (k ≤ 7) e N (N ≤ 2ᵏ). Neste problema, começamos com Tom, que na geração 0 tem genótipo Aa Bb. Tom tem dois filhos na 1ª geração, cada um dos quais tem dois filhos, e assim por diante. Cada organismo sempre cruza com um organismo de genótipo Aa Bb.\n",
    "\n",
    "**Retorne**: A probabilidade de que pelo menos N organismos Aa Bb pertençam à k-ésima geração da árvore genealógica de Tom (não conte os parceiros Aa Bb em cada nível). Suponha que a segunda lei de Mendel seja válida para os fatores."
   ]
  },
  {
   "cell_type": "code",
   "execution_count": 27,
   "id": "ae6d3e3a",
   "metadata": {},
   "outputs": [],
   "source": [
    "#Insira o caminho abaixo\n",
    "caminho = \"C:\\\\Users\\\\usuario\\\\OneDrive\\\\Área de Trabalho\\\\Nova pasta\\\\ROSALIND-Desafios\\\\Dados\\\\rosalind_lia.txt\"\n",
    "\n",
    "with open(caminho, \"r\", encoding=\"utf-8\") as arquivo:\n",
    "    entrada = arquivo.read()"
   ]
  },
  {
   "cell_type": "code",
   "execution_count": 28,
   "id": "f31b92f0",
   "metadata": {},
   "outputs": [
    {
     "name": "stdout",
     "output_type": "stream",
     "text": [
      "0.5478689355957752\n"
     ]
    }
   ],
   "source": [
    "from math import comb\n",
    "\n",
    "def segunda_lei(entrada):\n",
    "    entrada = entrada.strip()\n",
    "    k, N = map(int, entrada.split())\n",
    "    descedente = 2 ** k\n",
    "    probabilidade_de_AaBb = 0.25\n",
    "    probabilidade_de_não_ser_AaBb = 1 - probabilidade_de_AaBb\n",
    "    probabilidade_final = 0\n",
    "    while N <= descedente:\n",
    "        probabilidade = comb(descedente, N) * probabilidade_de_AaBb**N * probabilidade_de_não_ser_AaBb**(descedente - N)\n",
    "        probabilidade_final += probabilidade\n",
    "        N += 1\n",
    "    return probabilidade_final\n",
    "\n",
    "texto = segunda_lei(entrada)\n",
    "print(texto)"
   ]
  },
  {
   "cell_type": "code",
   "execution_count": 29,
   "id": "f42ebd59",
   "metadata": {},
   "outputs": [],
   "source": [
    "# Caminho para o arquivo dentro da pasta Output\n",
    "caminho = \"C:\\\\Users\\\\usuario\\\\OneDrive\\\\Área de Trabalho\\\\Nova pasta\\\\ROSALIND-Desafios\\\\Saidas\\\\rosalind_lia_output.txt\"\n",
    "\n",
    "with open(caminho, \"w\", encoding=\"utf-8\") as arquivo:\n",
    "    arquivo.write(str(texto))"
   ]
  }
 ],
 "metadata": {
  "kernelspec": {
   "display_name": "Python 3",
   "language": "python",
   "name": "python3"
  },
  "language_info": {
   "codemirror_mode": {
    "name": "ipython",
    "version": 3
   },
   "file_extension": ".py",
   "mimetype": "text/x-python",
   "name": "python",
   "nbconvert_exporter": "python",
   "pygments_lexer": "ipython3",
   "version": "3.13.2"
  }
 },
 "nbformat": 4,
 "nbformat_minor": 5
}
