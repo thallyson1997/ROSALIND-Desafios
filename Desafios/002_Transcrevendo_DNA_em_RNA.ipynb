{
  "cells": [
    {
      "cell_type": "markdown",
      "metadata": {
        "id": "xrMIoPq-nHBa"
      },
      "source": [
        "## O Segundo Ácido Nucleico"
      ]
    },
    {
      "cell_type": "markdown",
      "metadata": {
        "id": "2xddzdjYleXu"
      },
      "source": [
        "No problema “Contando Nucleotídeos do DNA”, descrevemos a estrutura primária de um ácido nucleico como um polímero de unidades de nucleotídeos, e mencionamos que o onipresente ácido nucleico DNA é composto por uma sequência variada de quatro bases.\n",
        "\n",
        "No entanto, um segundo ácido nucleico existe ao lado do DNA na cromatina; essa molécula, que possui um açúcar diferente chamado ribose, passou a ser conhecida como ácido ribonucleico, ou RNA. O RNA difere ainda mais do DNA por conter uma base chamada uracila no lugar da timina; as diferenças estruturais entre DNA e RNA estão ilustradas na Figura 1. Inicialmente, os biólogos acreditavam que o RNA era encontrado apenas em células vegetais, enquanto o DNA estava restrito às células animais. No entanto, essa hipótese foi descartada à medida que métodos químicos mais avançados descobriram ambos os ácidos nucleicos nas células de todas as formas de vida na Terra.\n",
        "\n",
        "![Figura 1](https://rosalind.info/media/problems/rna/RNA-DNA.png)\n",
        "\n",
        "A estrutura primária do DNA e do RNA é tão semelhante porque o primeiro serve como um molde para a criação de um tipo especial de molécula de RNA chamada RNA mensageiro, ou mRNA. O mRNA é criado durante a transcrição do RNA, processo no qual uma fita de DNA é usada como modelo para construir uma fita de RNA, copiando os nucleotídeos um a um, sendo que a uracila é usada no lugar da timina.\n",
        "\n",
        "Em eucariotos, o DNA permanece no núcleo, enquanto o RNA pode alcançar regiões distantes da célula para executar as instruções do DNA. Em problemas futuros, examinaremos o processo e as implicações da transcrição do RNA com mais detalhes.\n",
        "\n",
        "Fonte: [Transcribing DNA into RNA ](https://rosalind.info/problems/rna/)"
      ]
    },
    {
      "cell_type": "markdown",
      "metadata": {
        "id": "SDqw7rVHxHAl"
      },
      "source": [
        "### Problema\n",
        "\n",
        "Uma cadeia de RNA é uma cadeia formada a partir do alfabeto contendo 'A', 'C', 'G' e 'U'.\n",
        "\n",
        "Dado uma cadeia de DNA `t` correspondente a uma fita codificadora, sua cadeia de RNA transcrita `u` é formada substituindo todas as ocorrências de 'T' em `t` por 'U' em `u`.\n",
        "\n",
        "**Dado:** Uma cadeia de DNA `t` com comprimento de no máximo 1000 nucleotídeos (nt).\n",
        "\n",
        "**Retorne:** A cadeia de RNA transcrita de `t`."
      ]
    },
    {
      "cell_type": "code",
      "execution_count": 9,
      "metadata": {
        "id": "NTP-rCcgEi21"
      },
      "outputs": [],
      "source": [
        "t = input()"
      ]
    },
    {
      "cell_type": "code",
      "execution_count": 10,
      "metadata": {
        "colab": {
          "base_uri": "https://localhost:8080/"
        },
        "id": "1V8koeI8xi6B",
        "outputId": "df409615-8091-4ba5-c6f7-fea74298a7f0"
      },
      "outputs": [
        {
          "data": {
            "text/plain": [
              "'UCAGCUUACUAGACUCAAGAGAGCAGAAGAUCGAUGAGCGAGCCUAUUGACAGCGGCUCUUUAGCCAGACGGCCAAAGUGACCGAUCAGGAUAUCAUUGAAUUCACGGAAAAGUGAAAAGGCGGUGUUAAGUUCAGUGCCUAACGAGGCGCGAUUUAGUCAUGCAACACUCAAAACCCUUGGGUGAUCCCGGAUACGUCGUGCGGCCGUACCGUCUGCCGAGGCAGGAGAAUCCGAUAUAGUUUAAAAUCAGGCCUUCAUCCGGAUUGCAAGUCUGACGGAUACAUCCAGAUAUUACGUAUAUUUCAAUAGGACUCUAUAAUCCCGCUGUCAUCUUGUAGGGUUCUUCGUUCACGAAUCAUUUGAGCCCUCUUACCCCGUACACCUACAUUGCGUAACCCGUUCGAAAUUUCUAUAAUGCGGCUACACACGAUUUUGGGUAAGGAGACCCGGGCUGCAGCCCAGGACUACGGCUAUGCAUGCAUACCAGACAGUGACUAUGUCAACCCUGCAAUAAGGGUGUUGUGGCGGACUCCGUACUACACACUGCGUCGUGUACAUCCUGUCCCUCCCUAUAGUGAGAAGAUGUUGGGCUCAAAGUUCCUGCUCUGAUUCUGGCAGCUAGACGCUAUUGGACGCGAACGUCUUGAGCGUCGACAACUACUCCGGCGUAGUGGCUAUUCGUAUUCCCCCCUGCCCAGUAAACUUCGCCAGAACGUUAUCCCUCGGAGAUGACUAUACUUCAAGGGUACCUAAAUAUAAGGUUUCGCGAUAGGGCAUCGGAUGUCUAGAUGAGUAUACAGUCCAUGGACCCGAACAUCCGUAAUGUCGGCCACGGCGCACACUGUUUAUGUUACCUCGACCGUAAGAUGUAACAUGGGUCGCACAGGGGCAAACGAGGUGUCUUGUGAGUCC'"
            ]
          },
          "execution_count": 10,
          "metadata": {},
          "output_type": "execute_result"
        }
      ],
      "source": [
        "def transcrever_dna(dado):\n",
        "    dado = dado.replace('T', 'U')\n",
        "    return dado\n",
        "\n",
        "transcrever_dna(t)"
      ]
    }
  ],
  "metadata": {
    "colab": {
      "provenance": []
    },
    "kernelspec": {
      "display_name": "Python 3",
      "name": "python3"
    },
    "language_info": {
      "codemirror_mode": {
        "name": "ipython",
        "version": 3
      },
      "file_extension": ".py",
      "mimetype": "text/x-python",
      "name": "python",
      "nbconvert_exporter": "python",
      "pygments_lexer": "ipython3",
      "version": "3.13.2"
    }
  },
  "nbformat": 4,
  "nbformat_minor": 0
}
