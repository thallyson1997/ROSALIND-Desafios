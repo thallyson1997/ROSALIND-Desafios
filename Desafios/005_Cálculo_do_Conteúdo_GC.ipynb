{
 "cells": [
  {
   "cell_type": "markdown",
   "id": "beb4303b",
   "metadata": {},
   "source": [
    "## Identificando DNA Desconhecido Rapidamente"
   ]
  },
  {
   "cell_type": "markdown",
   "id": "9e65be41",
   "metadata": {},
   "source": [
    "Um método rápido usado pelos primeiros softwares de computador para determinar o idioma de um trecho de texto era analisar a frequência com que cada letra aparecia no texto. Essa estratégia era utilizada porque cada idioma tende a exibir suas próprias frequências de letras, e, desde que o texto considerado seja suficientemente longo, o software conseguirá reconhecer corretamente o idioma de forma rápida e com uma taxa de erro muito baixa. Veja a Figura 1 para uma tabela com as frequências das letras em inglês.\n",
    "\n",
    "![Figura 1](https://rosalind.info/media/problems/gc/English_letter_frequency.png)\n",
    "\n",
    "> Figura 1. A tabela acima foi calculada a partir de um grande número de palavras em inglês e mostra, para cada letra, a frequência com que aparece nessas palavras. Essas frequências podem ser usadas para identificar de forma confiável um trecho de texto em inglês e diferenciá-lo de outro idioma. Retirado de [http://en.wikipedia.org/wiki/File\\:English\\_letter\\_frequency\\_(frequency).svg](http://en.wikipedia.org/wiki/File:English_letter_frequency_%28frequency%29.svg).\n",
    "\n",
    "Você pode perguntar: o que esse problema linguístico tem a ver com biologia? Embora dois membros da mesma espécie tenham genomas diferentes, eles ainda compartilham a maior parte de seu DNA; notavelmente, 99,9% dos 3,2 bilhões de pares de bases no genoma humano são comuns a quase todos os humanos (isto é, excluindo pessoas com grandes defeitos genéticos). Por essa razão, os biólogos falam do genoma humano, significando um genoma médio derivado de uma coleção de indivíduos. Tal genoma médio pode ser montado para qualquer espécie, um desafio que discutiremos em breve.\n",
    "\n",
    "O análogo biológico da identificação de texto desconhecido surge quando pesquisadores encontram uma molécula de DNA de uma espécie desconhecida. Por causa das relações de pareamento entre as duas fitas de DNA, citosina e guanina sempre aparecerão em quantidades iguais em uma molécula de DNA de fita dupla. Assim, para analisar as frequências dos símbolos no DNA para comparação com um banco de dados, calculamos o conteúdo GC da molécula, ou a porcentagem de suas bases que são citosina ou guanina.\n",
    "\n",
    "Na prática, o conteúdo GC da maioria dos genomas eucarióticos gira em torno de 50%. No entanto, como os genomas são tão longos, podemos ser capazes de distinguir espécies com base em pequenas discrepâncias no conteúdo GC; além disso, a maioria dos procariontes tem um conteúdo GC significativamente maior que 50%, de modo que o conteúdo GC pode ser usado para diferenciar rapidamente muitos procariontes e eucariontes utilizando amostras de DNA relativamente pequenas.\n",
    "\n",
    "Fonte: [Computing GC Content](https://rosalind.info/problems/gc/)"
   ]
  },
  {
   "cell_type": "markdown",
   "id": "8b2b724b",
   "metadata": {},
   "source": [
    "### Problema\n",
    "\n",
    "O conteúdo GC de uma string de DNA é dado pela porcentagem de símbolos na string que são 'C' ou 'G'. Por exemplo, o conteúdo GC de \"AGCTATAG\" é 37,5%. Note que o complemento reverso de qualquer string de DNA possui o mesmo conteúdo GC.\n",
    "\n",
    "Strings de DNA devem ser rotuladas quando são consolidadas em um banco de dados. Um método comumente utilizado para rotular strings é chamado de formato FASTA. Nesse formato, a string é introduzida por uma linha que começa com '>', seguida de algumas informações de rotulagem. As linhas subsequentes contêm a própria string; a primeira linha a começar com '>' indica o rótulo da próxima string.\n",
    "\n",
    "Na implementação da Rosalind, uma string em formato FASTA será rotulada pelo ID \"Rosalind\\_xxxx\", onde \"xxxx\" denota um código de quatro dígitos entre 0000 e 9999.\n",
    "\n",
    "**Dado:** No máximo 10 strings de DNA em formato FASTA (cada uma com no máximo 1 kbp de comprimento).\n",
    "\n",
    "**Retorne:** O ID da string com o maior conteúdo GC, seguido pelo conteúdo GC dessa string. A Rosalind permite um erro padrão de 0,001 em todas as respostas decimais, a menos que indicado de outra forma; veja a nota sobre erro absoluto abaixo.\n"
   ]
  },
  {
   "cell_type": "code",
   "execution_count": 5,
   "id": "25eb38a0",
   "metadata": {},
   "outputs": [],
   "source": [
    "#Insira o caminho abaixo\n",
    "caminho = \"C:\\\\Users\\\\usuario\\\\OneDrive\\\\Área de Trabalho\\\\Nova pasta\\\\ROSALIND-Desafios\\\\Dados\\\\rosalind_gc.txt\"\n",
    "\n",
    "with open(caminho, \"r\", encoding=\"utf-8\") as arquivo:\n",
    "    entrada = arquivo.read()"
   ]
  },
  {
   "cell_type": "code",
   "execution_count": 8,
   "id": "10dff50c",
   "metadata": {},
   "outputs": [],
   "source": [
    "def Contar_CG(arquivo):\n",
    "    gene = arquivo.split('>')[1:]\n",
    "    gene = [item.split('\\n') for item in gene]\n",
    "    gene = [[item[0], ''.join(item[1:])] for item in gene]\n",
    "    valor = []\n",
    "    for cg in gene:\n",
    "        C = cg[1].count('C')\n",
    "        G = cg[1].count('G')\n",
    "        valor.append((C + G) / len(cg[1]) * 100)\n",
    "    nome = gene[valor.index(max(valor))][0]\n",
    "    porcetagem = valor[valor.index(max(valor))]\n",
    "    return f'{nome}\\n{porcetagem}'\n",
    "\n",
    "texto = Contar_CG(entrada)"
   ]
  },
  {
   "cell_type": "code",
   "execution_count": null,
   "id": "24be44ba",
   "metadata": {},
   "outputs": [],
   "source": [
    "# Caminho para o arquivo dentro da pasta Output\n",
    "caminho = \"C:\\\\Users\\\\usuario\\\\OneDrive\\\\Área de Trabalho\\\\Nova pasta\\\\ROSALIND-Desafios\\\\Saidas\\\\rosalind_gc_output.txt\"\n",
    "\n",
    "with open(caminho, \"w\", encoding=\"utf-8\") as arquivo:\n",
    "    arquivo.write(texto)"
   ]
  }
 ],
 "metadata": {
  "kernelspec": {
   "display_name": "Python 3",
   "language": "python",
   "name": "python3"
  },
  "language_info": {
   "codemirror_mode": {
    "name": "ipython",
    "version": 3
   },
   "file_extension": ".py",
   "mimetype": "text/x-python",
   "name": "python",
   "nbconvert_exporter": "python",
   "pygments_lexer": "ipython3",
   "version": "3.13.2"
  }
 },
 "nbformat": 4,
 "nbformat_minor": 5
}
