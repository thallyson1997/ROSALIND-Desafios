{
 "cells": [
  {
   "cell_type": "markdown",
   "id": "af616474",
   "metadata": {},
   "source": [
    "## As Estruturas Secundária e Terciária do DNA"
   ]
  },
  {
   "cell_type": "markdown",
   "id": "35326dd2",
   "metadata": {},
   "source": [
    "No problema “Contando Nucleotídeos do DNA”, introduzimos os ácidos nucleicos e vimos que a estrutura primária de um ácido nucleico é determinada pela ordem de suas nucleobases ao longo da espinha dorsal de açúcar-fosfato que constitui as ligações do polímero de ácido nucleico. No entanto, a estrutura primária não nos diz nada sobre a forma maior, tridimensional, da molécula, que é essencial para uma compreensão completa dos ácidos nucleicos.\n",
    "\n",
    "A busca por uma estrutura química completa dos ácidos nucleicos foi central na pesquisa em biologia molecular na metade do século XX, culminando em 1953 com uma publicação na revista *Nature* com menos de 800 palavras, feita por James Watson e Francis Crick. Reunindo uma imagem de raio-X de alta resolução criada por Rosalind Franklin e Raymond Gosling com vários resultados químicos já conhecidos, Watson e Crick propuseram a seguinte estrutura para o DNA:\n",
    "\n",
    "    1. A molécula de DNA é composta por duas fitas, que correm em direções opostas.\n",
    "    2. Cada base se liga a uma base da fita oposta. A adenina sempre se liga à timina, e a citosina sempre se liga à guanina; o complemento de uma base é a base à qual ela sempre se liga (veja a Figura 1).\n",
    "    3. As duas fitas são torcidas juntas formando uma longa estrutura em espiral chamada de dupla hélice (veja a Figura 2).\n",
    "\n",
    "![Figura 1](https://rosalind.info/media/problems/revc/DNA_chemical_structure.png)\n",
    "\n",
    "> **Figura 1**. Pareamento de bases entre as duas fitas do DNA.\n",
    "\n",
    "![Figura 2](https://rosalind.info/media/problems/revc/DNA.png)\n",
    "\n",
    "> **Figura 2**. A dupla hélice do DNA em escala molecular.\n",
    "\n",
    "Como os itens (1) e (2) determinam como as bases de fitas diferentes interagem entre si, eles compõem a **estrutura secundária** do DNA. O item (3) descreve a forma tridimensional da molécula de DNA, ou seja, sua **estrutura terciária**.\n",
    "\n",
    "À luz do modelo de Watson e Crick, a ligação de duas bases complementares é chamada de **par de bases (bp)**. Por isso, o comprimento de uma molécula de DNA é comumente dado em *bp* (pares de bases), em vez de *nt* (nucleotídeos). Pela complementaridade, uma vez que sabemos a ordem das bases em uma fita, podemos deduzir imediatamente a sequência de bases da fita complementar. Essas bases estarão em ordem inversa, para coincidir com o fato de que as duas fitas do DNA seguem em direções opostas.\n",
    "\n",
    "Fonte: [Complementing a Strand of DNA](https://rosalind.info/problems/revc/)"
   ]
  },
  {
   "cell_type": "markdown",
   "id": "0a4ab346",
   "metadata": {},
   "source": [
    "### Problema\n",
    "\n",
    "Em cadeias de DNA, os símbolos 'A' e 'T' são complementares entre si, assim como 'C' e 'G'.\n",
    "\n",
    "O **complemento reverso** de uma cadeia de DNA `s` é a cadeia `sc` formada ao inverter os símbolos de `s` e, em seguida, tomar o complemento de cada símbolo (por exemplo, o complemento reverso de \"GTCA\" é \"TGAC\").\n",
    "\n",
    "**Dado:** Uma cadeia de DNA `s` com comprimento de no máximo 1000 pares de bases (bp).\n",
    "\n",
    "**Retorne:** O complemento reverso `sc` de `s`."
   ]
  },
  {
   "cell_type": "code",
   "execution_count": 1,
   "id": "7f16ed82",
   "metadata": {},
   "outputs": [],
   "source": [
    "#Insira o caminho abaixo\n",
    "caminho = \"C:\\\\Users\\\\usuario\\\\OneDrive\\\\Área de Trabalho\\\\Nova pasta\\\\ROSALIND-Desafios\\\\Dados\\\\rosalind_revc.txt\"\n",
    "\n",
    "with open(caminho, \"r\", encoding=\"utf-8\") as arquivo:\n",
    "    s = arquivo.read()"
   ]
  },
  {
   "cell_type": "code",
   "execution_count": 2,
   "id": "7691dfbf",
   "metadata": {},
   "outputs": [
    {
     "name": "stdout",
     "output_type": "stream",
     "text": [
      "GAAAACTGGTGCATTCCGGTCTAATAAACGATGTAAAGTAGCGTTCTGGAGGTAGGCGCAGATGCCAACAGATGGGTCTGCCCGCCGAACTTGCTAATACGAATCCGTTTTGCCATTGTCACTGTGTCCTAGCACGGTTTACGTAAAAACGGCGGGTTCGGTGTGATCTACGAGGGACCCGACGACTACGGTGACTCTCTGTCACTCTGGGATGATTGCTGGCTTAGTCCCGTCCAATAAATCGGGGTATTAGGGTTTCACGGACGGATGCCTTCTGATGCGCGATAACGTCGATTTTACGTGTATACAAGTTTCTGTGCTTTATCCCCTCCGGCGGCATGGTCTACGCAAGGCGATAAATTCACATGGATCTCCTCTTTGAATCGATATCTCATAAGCACCATCGGCGTTAGTTAATGGAGTGCTGCAGACATCAATCCGAGATACTTAATTTAACCAAAGCACCCTTGATCGTAGTTAATCGACTATGGAGATCGATGGATTAGCTGTAACAAATCAATACGCTAGGCTAGATCCTCCACTCTTCATATATTTGCGATTTCCTTTCCAGAAAGGTGGTAGAAGTCCGGACTATACAAAAGGTCAGACGCCCCGTGTCAGCATAGCCAATCTTCATTTCTTCAACTTCATGCTAACCATAGCATGCAACTGGTACAGCGTCGAATAGCAGGGCCTATAGACAATGTTAGCATGAGTATCATCCCCTGCATCCTATAATCACAGCCTTATGCCCTGTTATATAGTTCCGCGATCGTTCCAGAGAGAGACCTCCATGGTTTGCACATCGGACCCTCCCCGGTCAGACCTTCACAAGGTGACTTTTACGATCCGTACTAAGGGCTTTCCTATAACACCCACACAGCGATACAGCTTTGACTAGAATGTCTGGTGTCCCATGTTATCGTTTTTGGCGTGGTG\n"
     ]
    }
   ],
   "source": [
    "def complemento_reverso(dado):\n",
    "    dado_reverso = dado.replace('A', 't').replace('T', 'a').replace('C', 'g').replace('G', 'c').upper()\n",
    "    dado_reverso = \"\".join(reversed(dado_reverso))\n",
    "    return dado_reverso[1:]\n",
    "\n",
    "texto = complemento_reverso(s)\n",
    "print(texto)"
   ]
  },
  {
   "cell_type": "code",
   "execution_count": 3,
   "id": "5ac2a9fc",
   "metadata": {},
   "outputs": [],
   "source": [
    "# Caminho para o arquivo dentro da pasta Output\n",
    "caminho = \"C:\\\\Users\\\\usuario\\\\OneDrive\\\\Área de Trabalho\\\\Nova pasta\\\\ROSALIND-Desafios\\\\Saidas\\\\rosalind_revc_output.txt\"\n",
    "\n",
    "with open(caminho, \"w\", encoding=\"utf-8\") as arquivo:\n",
    "    arquivo.write(texto)"
   ]
  }
 ],
 "metadata": {
  "kernelspec": {
   "display_name": "Python 3",
   "language": "python",
   "name": "python3"
  },
  "language_info": {
   "codemirror_mode": {
    "name": "ipython",
    "version": 3
   },
   "file_extension": ".py",
   "mimetype": "text/x-python",
   "name": "python",
   "nbconvert_exporter": "python",
   "pygments_lexer": "ipython3",
   "version": "3.13.2"
  }
 },
 "nbformat": 4,
 "nbformat_minor": 5
}
