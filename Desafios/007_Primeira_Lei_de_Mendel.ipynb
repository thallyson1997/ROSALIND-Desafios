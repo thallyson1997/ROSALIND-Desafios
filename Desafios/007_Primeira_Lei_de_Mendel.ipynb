{
 "cells": [
  {
   "cell_type": "markdown",
   "id": "e7ad6055",
   "metadata": {},
   "source": [
    "# Introdução à Herança Mendeliana"
   ]
  },
  {
   "cell_type": "markdown",
   "id": "0efb4e32",
   "metadata": {},
   "source": [
    "As leis modernas da herança foram descritas pela primeira vez por Gregor Mendel (um frade agostiniano) em 1865. O modelo hereditário da época, chamado de herança por mistura, afirmava que um organismo exibia uma mistura das características de seus pais. Essa regra é claramente violada tanto empiricamente (considere o grande número de pessoas mais altas que ambos os pais) quanto estatisticamente (com o tempo, características misturadas tenderiam a se fundir na média, limitando severamente a variação).\n",
    "\n",
    "Mendel, trabalhando com milhares de plantas de ervilha, acreditava que, em vez de ver as características como processos contínuos, elas deveriam ser divididas em blocos discretos chamados de fatores. Além disso, ele propôs que cada fator possui formas distintas, chamadas de alelos.\n",
    "\n",
    "Naquilo que veio a ser conhecido como sua primeira lei (também conhecida como a lei da segregação), Mendel afirmou que todo organismo possui um par de alelos para um dado fator. Se os dois alelos de um indivíduo forem iguais, ele é homozigoto para aquele fator; se os alelos forem diferentes, o indivíduo é heterozigoto. A primeira lei conclui que, para qualquer fator, um organismo transmite aleatoriamente um dos seus dois alelos a cada descendente, de modo que o indivíduo receba um alelo de cada pai.\n",
    "\n",
    "Mendel também acreditava que cada fator correspondia a apenas dois alelos possíveis: o dominante e o recessivo. Um organismo só precisa possuir uma cópia do alelo dominante para exibir a característica representada por ele. Em outras palavras, a única forma de um organismo exibir uma característica codificada por um alelo recessivo é sendo homozigoto recessivo para aquele fator.\n",
    "\n",
    "Podemos representar o alelo dominante de um fator com uma letra maiúscula (ex: A) e o alelo recessivo com uma letra minúscula (ex: a). Como um organismo heterozigoto pode possuir um alelo recessivo sem apresentar a característica recessiva, passamos a definir o genótipo de um organismo como sua composição genética exata e o fenótipo como a manifestação física de suas características genéticas.\n",
    "\n",
    "As diferentes possibilidades de herança de dois alelos podem ser representadas por um quadrado de Punnett; veja a Figura 1 como exemplo.\n",
    "\n",
    "![Figura 1](https://rosalind.info/media/problems/iprb/220px-Punnett_Square.svg.png)\n",
    "\n",
    "> **Figura 1**. Um quadrado de Punnett representando os possíveis resultados do cruzamento entre um organismo heterozigoto (Yy) com um organismo homozigoto recessivo (yy); aqui, o alelo dominante Y corresponde a vagens de ervilha amarelas, e o alelo recessivo y corresponde a vagens verdes.\n",
    "\n",
    "Fonte: [Mendel's First Law](https://rosalind.info/problems/iprb/)"
   ]
  },
  {
   "cell_type": "markdown",
   "id": "cf85c5c8",
   "metadata": {},
   "source": [
    "### Problema\n",
    "\n",
    "A **probabilidade** é o estudo matemático de fenômenos que ocorrem aleatoriamente. Vamos modelar esse tipo de fenômeno com uma **variável aleatória**, que é simplesmente uma variável que pode assumir diversos resultados distintos, dependendo do resultado de um processo aleatório subjacente.\n",
    "\n",
    "Por exemplo, suponha que temos uma sacola contendo 3 bolas vermelhas e 2 bolas azuis. Se chamarmos **X** de variável aleatória que representa a cor da bola sorteada, então as probabilidades são:\n",
    "\n",
    "* Pr(X=vermelha) = 3/5\n",
    "* Pr(X=azul) = 2/5\n",
    "\n",
    "Variáveis aleatórias podem ser combinadas para formar novas variáveis. Voltando ao exemplo das bolas, seja **Y** a cor de uma segunda bola sorteada sem reposição da primeira. A probabilidade de Y ser vermelha depende de a primeira bola ter sido vermelha ou azul. Para representar todos os resultados possíveis de X e Y, usamos um **diagrama em árvore de probabilidade**. Esse diagrama ramificado mostra todas as probabilidades individuais possíveis para X e Y, com os resultados nos ramos finais (\"folhas\") da árvore. A probabilidade de qualquer resultado é o produto das probabilidades ao longo do caminho desde o início da árvore; veja a Figura 2 como exemplo ilustrativo.\n",
    "\n",
    "![Figura 2](https://rosalind.info/media/problems/iprb/balls_tree.png)\n",
    "\n",
    "> **Figura 2**. A probabilidade de qualquer resultado (folha) em um diagrama em árvore de probabilidade é dada pelo produto das probabilidades desde o início da árvore até o resultado. Por exemplo, a probabilidade de X ser azul e Y ser azul é igual a (2/5)(1/4), ou 1/10.\n",
    "\n",
    "Um **evento** é simplesmente um conjunto de resultados. Como os resultados são distintos, a probabilidade de um evento pode ser escrita como a soma das probabilidades dos resultados que o compõem. No exemplo das bolas coloridas, seja **A** o evento \"Y é azul\". Então:\n",
    "Pr(A) = Pr(X=azul e Y=azul) + Pr(X=vermelha e Y=azul) = 3/10 + 1/10 = 2/5 (veja a Figura 2 acima).\n",
    "\n",
    "**Dado**: Três números inteiros positivos **k**, **m** e **n**, representando uma população com **k + m + n** organismos:\n",
    "\n",
    "* **k** indivíduos são homozigotos dominantes para um fator,\n",
    "* **m** são heterozigotos,\n",
    "* **n** são homozigotos recessivos.\n",
    "\n",
    "**Retorne**: A probabilidade de que dois organismos escolhidos aleatoriamente para acasalamento produzam um indivíduo com pelo menos um alelo dominante (e, portanto, exibam o fenótipo dominante). Assuma que qualquer par de organismos pode acasalar entre si."
   ]
  },
  {
   "cell_type": "code",
   "execution_count": 1,
   "id": "a1c446f2",
   "metadata": {},
   "outputs": [],
   "source": [
    "#Insira o caminho abaixo\n",
    "caminho = \"C:\\\\Users\\\\usuario\\\\OneDrive\\\\Área de Trabalho\\\\Nova pasta\\\\ROSALIND-Desafios\\\\Dados\\\\rosalind_iprb.txt\"\n",
    "\n",
    "with open(caminho, \"r\", encoding=\"utf-8\") as arquivo:\n",
    "    entrada = arquivo.read().split(' ')\n",
    "\n",
    "k = int(entrada[0])\n",
    "m = int(entrada[1])\n",
    "n = int(entrada[2])"
   ]
  },
  {
   "cell_type": "code",
   "execution_count": 2,
   "id": "75a106a1",
   "metadata": {},
   "outputs": [
    {
     "name": "stdout",
     "output_type": "stream",
     "text": [
      "0.66324200913242\n"
     ]
    }
   ],
   "source": [
    "def primeira_lei_mendel(k, m, n):\n",
    "    dicio = {'k': k, 'm': m, 'n': n}\n",
    "    total = sum(dicio.values())\n",
    "    prob = 0\n",
    "\n",
    "    for pri in dicio.keys():\n",
    "        prob1 = dicio[pri] / total\n",
    "        for sec in dicio.keys():\n",
    "            if sec == pri:\n",
    "                prob2 = (dicio[sec] - 1) / (total - 1)\n",
    "                if pri == 'k':\n",
    "                    prob = prob + (prob1 * prob2)\n",
    "                if pri == 'm':\n",
    "                    prob = prob + (prob1 * prob2 * 0.75)\n",
    "            else:\n",
    "                prob2 = (dicio[sec]) / (total - 1)\n",
    "                if ((pri, sec) == ('k', 'm')) or ((pri, sec) == ('m', 'k')):\n",
    "                    prob = prob + (prob1 * prob2)\n",
    "                if ((pri, sec) == ('k', 'n')) or ((pri, sec) == ('n', 'k')):\n",
    "                    prob = prob + (prob1 * prob2)\n",
    "                if ((pri, sec) == ('m', 'n')) or ((pri, sec) == ('n', 'm')):\n",
    "                    prob = prob + (prob1 * prob2 * 0.5)\n",
    "    \n",
    "    return prob\n",
    "\n",
    "texto = primeira_lei_mendel(k, m, n)\n",
    "print(texto)"
   ]
  },
  {
   "cell_type": "code",
   "execution_count": 3,
   "id": "e9c34593",
   "metadata": {},
   "outputs": [],
   "source": [
    "# Caminho para o arquivo dentro da pasta Output\n",
    "caminho = \"C:\\\\Users\\\\usuario\\\\OneDrive\\\\Área de Trabalho\\\\Nova pasta\\\\ROSALIND-Desafios\\\\Saidas\\\\rosalind_iprb_output.txt\"\n",
    "\n",
    "with open(caminho, \"w\", encoding=\"utf-8\") as arquivo:\n",
    "    arquivo.write(str(texto))"
   ]
  }
 ],
 "metadata": {
  "kernelspec": {
   "display_name": "Python 3",
   "language": "python",
   "name": "python3"
  },
  "language_info": {
   "codemirror_mode": {
    "name": "ipython",
    "version": 3
   },
   "file_extension": ".py",
   "mimetype": "text/x-python",
   "name": "python",
   "nbconvert_exporter": "python",
   "pygments_lexer": "ipython3",
   "version": "3.13.2"
  }
 },
 "nbformat": 4,
 "nbformat_minor": 5
}
