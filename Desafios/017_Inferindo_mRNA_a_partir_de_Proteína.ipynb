{
 "cells": [
  {
   "cell_type": "markdown",
   "id": "9fe9ee21",
   "metadata": {},
   "source": [
    "# Armadilhas da Tradução Reversa"
   ]
  },
  {
   "cell_type": "markdown",
   "id": "5b34a390",
   "metadata": {},
   "source": [
    "Quando pesquisadores descobrem uma nova proteína, eles gostariam de inferir a cadeia de mRNA da qual essa proteína poderia ter sido traduzida, permitindo assim localizar os genes associados a essa proteína no genoma.\n",
    "\n",
    "Infelizmente, embora qualquer cadeia de RNA possa ser traduzida em uma cadeia única de proteína, reverter esse processo gera um número enorme de possíveis cadeias de RNA a partir de uma única cadeia de proteína, porque a maioria dos aminoácidos corresponde a múltiplos códons de RNA (veja a Tabela de Códons de RNA).\n",
    "\n",
    "Por causa de considerações de memória, a maioria dos formatos de dados embutidos nas linguagens possui limites superiores para o tamanho de um número inteiro: em algumas versões do Python, uma variável \"int\" pode ser obrigada a não ultrapassar 2³¹−1, ou 2.147.483.647. Como resultado, para lidar com números muito grandes no Rosalind, precisamos desenvolver um sistema que nos permita manipular grandes números sem precisar armazená-los diretamente.\n",
    "\n",
    "Link: [Inferring mRNA from Protein](https://rosalind.info/problems/mrna/)"
   ]
  },
  {
   "cell_type": "markdown",
   "id": "d2d7b884",
   "metadata": {},
   "source": [
    "### **Problema**\n",
    "\n",
    "Para inteiros positivos a e n, a módulo n (escrito como a mod n de forma abreviada) é o resto quando a é dividido por n. Por exemplo, 29 mod 11 = 7 porque 29 = 11 × 2 + 7.\n",
    "\n",
    "A aritmética modular é o estudo da adição, subtração, multiplicação e divisão com respeito à operação módulo. Dizemos que a e b são congruentes módulo n se a mod n = b mod n; neste caso, usamos a notação a ≡ b mod n.\n",
    "\n",
    "Dois fatos úteis em aritmética modular são que se a ≡ b mod n e c ≡ d mod n, então a + c ≡ b + d mod n e a × c ≡ b × d mod n. Para verificar sua compreensão dessas regras, talvez você queira confirmar essas relações para a = 29, b = 73, c = 10, d = 32 e n = 11.\n",
    "\n",
    "Como você verá neste exercício, alguns problemas do Rosalind pedirão uma solução inteira (muito grande) módulo um número menor para evitar os problemas computacionais que surgem ao armazenar números tão grandes.\n",
    "\n",
    "**Dado**: Uma cadeia de proteína com no máximo 1000 aminoácidos.\n",
    "\n",
    "**Retorne**: O número total de diferentes cadeias de RNA a partir das quais a proteína poderia ter sido traduzida, módulo 1.000.000. (Não negligencie a importância do códon de parada na tradução de proteínas.)"
   ]
  },
  {
   "cell_type": "code",
   "execution_count": null,
   "id": "ae6d3e3a",
   "metadata": {},
   "outputs": [
    {
     "data": {
      "text/plain": [
       "'MKRYGSRDCSPRDDSGAYAGMENFFMKCDSFPQQMHCAVDFTVMGIIMVRYNTTPCHATTGDPNSNISQKGFAYAGRLQDWSYRWFLNATPDDMCTNFVDMHRFPYTELIILVALKGNMHEDFLQARSFCWRMASDNWDHKKTENTRVKIMQAKWQICLLMKCGRQRGWYIRHKISLSHRKAAWRYSYCKISHNMLENVWEQDCKWAQLCGEKYPPIYKLLHRLCQCFKMKEHGMCIAFTPTQMKYTLYWIYPIWYKWEKKSTQNPWHSCVNGIPTPLPRRYRNTDHGALRCRVAMDAITVSAENKTGDWIFYRWSWHVETEMVPGYPPDPHLHTFMYYDTVYMADRGEINWKKQWLNAHYMGHKWYMSGLTWMCQLPGGGMTYNPQMLTGVFCPKYMTICFCVKLWISNNLLNHLDIGTQQKTEHNVQTFGWTNAPQRLVCFMVCPLCYRNCTIRMMIGGHRVGWHIMDRKHLGAVFDYNHGLEYNHFIWMWKMPWSSRICEFIWIARFLHAVWKMSQSMFGIAHDSCMVVSMKWMFNPDGVKKDNQRGMEVPYTASCIQLRVCIAHVANYFKRMLIWNLDSIAINDTIISCNFNAGRFPSVGEKEKINGNDPVDAYFTHLPIDFSSYERTNLFSAVNCWFHMLLLYNCRKMYAFPIDLNLDSKYPCCAQMIYWIIGTDVIDAWVCLPPMRDKSQATGAQLGCAIHCNYSHCAWELMHTHCHTLKYRKTSEMERNIDNQFCLVRAPKGPHIFVGRLIMNPLQFHYSNQEIYTFRGLGESMYTEGYEWKSRPLCPGPWMGGMYANVSICDGWTQSAVRVGPLWGTWSREWMASKSFMILFHNCGDCPHAKKEWLQDFGMRHARQRWAHQISPIVLARPMGILEEMGQYNRQLPLGAGFVHEIVCDHNCITFWLRYKTRPTHNEMKICDSVEYGFKYRRSCQCLSESDCITQWMDFWIKRGSKYKVMVCFHGDRTSQWTSLYPHFHAPRSFQNPCWKPE\\n'"
      ]
     },
     "execution_count": 7,
     "metadata": {},
     "output_type": "execute_result"
    }
   ],
   "source": [
    "#Insira o caminho abaixo\n",
    "caminho = \"C:\\\\Users\\\\usuario\\\\OneDrive\\\\Área de Trabalho\\\\Nova pasta\\\\ROSALIND-Desafios\\\\Dados\\\\rosalind_mrna.txt\"\n",
    "\n",
    "with open(caminho, \"r\", encoding=\"utf-8\") as arquivo:\n",
    "    entrada = arquivo.read()"
   ]
  },
  {
   "cell_type": "code",
   "execution_count": 8,
   "id": "f31b92f0",
   "metadata": {},
   "outputs": [
    {
     "name": "stdout",
     "output_type": "stream",
     "text": [
      "962112\n"
     ]
    }
   ],
   "source": [
    "def modulo_da_proteina(entrada):\n",
    "    entrada = entrada.strip()\n",
    "    codons_por_aminoacido = {'F': 2, 'L': 6, 'S': 6, 'Y': 2, 'C': 2, 'W': 1, 'P': 4, 'H': 2, 'Q': 2,\n",
    "                             'R': 6, 'I': 3, 'M': 1, 'T': 4, 'N': 2, 'K': 2, 'V': 4, 'A': 4, 'D': 2,\n",
    "                             'E': 2, 'G': 4}\n",
    "    modulo = 1\n",
    "    for letra in entrada:\n",
    "        modulo = (modulo * codons_por_aminoacido[letra]) % 1000000\n",
    "    modulo = (modulo * 3) % 1000000\n",
    "    return str(modulo)\n",
    "\n",
    "    \n",
    "texto = modulo_da_proteina(entrada)\n",
    "print(texto)"
   ]
  },
  {
   "cell_type": "code",
   "execution_count": 9,
   "id": "f42ebd59",
   "metadata": {},
   "outputs": [],
   "source": [
    "# Caminho para o arquivo dentro da pasta Output\n",
    "caminho = \"C:\\\\Users\\\\usuario\\\\OneDrive\\\\Área de Trabalho\\\\Nova pasta\\\\ROSALIND-Desafios\\\\Saidas\\\\rosalind_mrna_output.txt\"\n",
    "\n",
    "with open(caminho, \"w\", encoding=\"utf-8\") as arquivo:\n",
    "    arquivo.write(str(texto))"
   ]
  }
 ],
 "metadata": {
  "kernelspec": {
   "display_name": "Python 3",
   "language": "python",
   "name": "python3"
  },
  "language_info": {
   "codemirror_mode": {
    "name": "ipython",
    "version": 3
   },
   "file_extension": ".py",
   "mimetype": "text/x-python",
   "name": "python",
   "nbconvert_exporter": "python",
   "pygments_lexer": "ipython3",
   "version": "3.13.2"
  }
 },
 "nbformat": 4,
 "nbformat_minor": 5
}
