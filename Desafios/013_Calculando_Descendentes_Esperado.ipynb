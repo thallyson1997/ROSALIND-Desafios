{
 "cells": [
  {
   "cell_type": "markdown",
   "id": "9fe9ee21",
   "metadata": {},
   "source": [
    "# A Necessidade de Médias"
   ]
  },
  {
   "cell_type": "markdown",
   "id": "5b34a390",
   "metadata": {},
   "source": [
    "Médias aparecem em todos os lugares. Nos esportes, queremos projetar o número médio de jogos que um time deve vencer; nos jogos de azar, queremos projetar as perdas médias ao jogar blackjack; nos negócios, as empresas desejam calcular suas vendas médias esperadas para o próximo trimestre.\n",
    "\n",
    "A biologia molecular não está imune à necessidade de médias. Pesquisadores precisam prever o número esperado de bactérias patogênicas resistentes a antibióticos em um futuro surto, estimar o número previsto de locais no genoma que corresponderão a um determinado motivo e estudar a distribuição de alelos em uma população em evolução. Neste problema, começaremos a discutir o terceiro caso; primeiro, precisamos compreender melhor o que significa calcular a média de um processo aleatório.\n",
    "\n",
    "Link: [Calculating Expected Offspring](https://rosalind.info/problems/iev/)"
   ]
  },
  {
   "cell_type": "markdown",
   "id": "d2d7b884",
   "metadata": {},
   "source": [
    "### **Problema**\n",
    "\n",
    "Para uma variável aleatória **X** que assume valores inteiros entre 1 e **n**, o valor esperado de **X** é dado por:\n",
    "\n",
    "**E(X) = ∑(k=1 até n) \\[k × Pr(X = k)]**\n",
    "\n",
    "O valor esperado nos oferece uma maneira de obter a média de longo prazo de uma variável aleatória em um grande número de experimentos.\n",
    "\n",
    "Como exemplo motivador, seja **X** o número obtido ao lançar um dado de seis faces. Em um grande número de lançamentos, devemos esperar obter uma média de **3,5** no dado (mesmo que não seja possível lançar um 3,5). A fórmula para o valor esperado confirma isso:\n",
    "\n",
    "**E(X) = ∑(k=1 até 6) \\[k × Pr(X = k)] = 3,5**\n",
    "\n",
    "De forma mais geral, uma variável aleatória para a qual cada um dos possíveis resultados igualmente espaçados tem a mesma probabilidade é chamada de **variável aleatória uniforme** (no exemplo do dado, esse “espaçamento igual” é igual a 1). Podemos generalizar o exemplo do dado para encontrar que, se **X** é uma variável aleatória uniforme com valor mínimo **a** e valor máximo **b**, então:\n",
    "\n",
    "**E(X) = (a + b) / 2**\n",
    "\n",
    "Você também pode verificar que, no exemplo do dado, se **Y** é a variável aleatória associada ao resultado de um segundo lançamento, então:\n",
    "\n",
    "**E(X + Y) = 7**\n",
    "\n",
    "**Dado**: Seis números inteiros não negativos, cada um não excedendo 20.000. Os inteiros correspondem ao número de casais em uma população que possuem cada emparelhamento genotípico para um determinado fator. Na ordem, os seis inteiros fornecidos representam o número de casais com os seguintes genótipos:\n",
    "\n",
    "1. **AA-AA**\n",
    "2. **AA-Aa**\n",
    "3. **AA-aa**\n",
    "4. **Aa-Aa**\n",
    "5. **Aa-aa**\n",
    "6. **aa-aa**\n",
    "\n",
    "**Retorne**: O número esperado de descendentes que exibem o **fenótipo dominante** na próxima geração, assumindo que cada casal tem exatamente dois descendentes."
   ]
  },
  {
   "cell_type": "code",
   "execution_count": 12,
   "id": "ae6d3e3a",
   "metadata": {},
   "outputs": [],
   "source": [
    "#Insira o caminho abaixo\n",
    "caminho = \"C:\\\\Users\\\\usuario\\\\OneDrive\\\\Área de Trabalho\\\\Nova pasta\\\\ROSALIND-Desafios\\\\Dados\\\\rosalind_iev.txt\"\n",
    "\n",
    "with open(caminho, \"r\", encoding=\"utf-8\") as arquivo:\n",
    "    entrada = arquivo.read()"
   ]
  },
  {
   "cell_type": "code",
   "execution_count": 13,
   "id": "f31b92f0",
   "metadata": {},
   "outputs": [
    {
     "name": "stdout",
     "output_type": "stream",
     "text": [
      "149941.5\n"
     ]
    }
   ],
   "source": [
    "def media(entrada):\n",
    "    entrada = entrada.split()\n",
    "    entrada = [int(i) for i in entrada]\n",
    "    n = 0\n",
    "    n = n + 2 * (entrada[0] * 1)\n",
    "    n = n + 2 * (entrada[1] * 1)\n",
    "    n = n + 2 * (entrada[2] * 1)\n",
    "    n = n + 2 * (entrada[3] * 0.75)\n",
    "    n = n + 2 * (entrada[4] * 0.5)\n",
    "    n = n + 2 * (entrada[5] * 0)\n",
    "    return n\n",
    "\n",
    "texto = media(entrada)\n",
    "print(texto)"
   ]
  },
  {
   "cell_type": "code",
   "execution_count": 14,
   "id": "f42ebd59",
   "metadata": {},
   "outputs": [],
   "source": [
    "# Caminho para o arquivo dentro da pasta Output\n",
    "caminho = \"C:\\\\Users\\\\usuario\\\\OneDrive\\\\Área de Trabalho\\\\Nova pasta\\\\ROSALIND-Desafios\\\\Saidas\\\\rosalind_iev_output.txt\"\n",
    "\n",
    "with open(caminho, \"w\", encoding=\"utf-8\") as arquivo:\n",
    "    arquivo.write(str(texto))"
   ]
  }
 ],
 "metadata": {
  "kernelspec": {
   "display_name": "Python 3",
   "language": "python",
   "name": "python3"
  },
  "language_info": {
   "codemirror_mode": {
    "name": "ipython",
    "version": 3
   },
   "file_extension": ".py",
   "mimetype": "text/x-python",
   "name": "python",
   "nbconvert_exporter": "python",
   "pygments_lexer": "ipython3",
   "version": "3.13.2"
  }
 },
 "nbformat": 4,
 "nbformat_minor": 5
}
