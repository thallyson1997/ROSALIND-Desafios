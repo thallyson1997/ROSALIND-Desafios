{
  "nbformat": 4,
  "nbformat_minor": 0,
  "metadata": {
    "colab": {
      "provenance": []
    },
    "kernelspec": {
      "name": "python3",
      "display_name": "Python 3"
    },
    "language_info": {
      "name": "python"
    }
  },
  "cells": [
    {
      "cell_type": "markdown",
      "source": [
        "## Uma Introdução Rápida à Biologia Molecular"
      ],
      "metadata": {
        "id": "xrMIoPq-nHBa"
      }
    },
    {
      "cell_type": "markdown",
      "source": [
        "Formando todo o material vivo, a célula é considerada a unidade fundamental da vida. O núcleo, um componente da maioria das células eucarióticas, foi identificado como o centro da atividade celular há 150 anos. Quando observado em um microscópio óptico, o núcleo aparece apenas como uma região mais escura da célula, mas, ao aumentarmos a ampliação, vemos que ele está densamente preenchido com uma mistura de macromoléculas chamada cromatina. Durante a mitose (divisão celular eucariótica), grande parte da cromatina se condensa em longos e finos fios chamados cromossomos. Veja a Figura 1 para uma ilustração de células em diferentes estágios da mitose.\n",
        "\n",
        "![Figura 1](https://rosalind.info/media/problems/dna/cell.jpg)\n",
        "\n",
        "> **Figura 1.** Um desenho de 1900 feito por Edmund Wilson de células de cebola em diferentes estágios da mitose. A amostra foi corada, fazendo com que a cromatina nas células (que absorve a cor) apareça em maior contraste em relação ao restante da célula.\n",
        "\n",
        "\n",
        "\n",
        "Uma classe das macromoléculas contidas na cromatina é chamada de ácidos nucleicos. Pesquisas realizadas no início do século XX sobre a identidade química dos ácidos nucleicos culminaram na conclusão de que eles são polímeros — ou seja, cadeias repetidas de moléculas menores e de estrutura semelhante conhecidas como monômeros. Devido à sua tendência de serem longos e finos, os polímeros de ácido nucleico são comumente chamados de filamentos.\n",
        "\n",
        "O monômero do ácido nucleico é chamado nucleotídeo e é usado como unidade de medida do comprimento dos filamentos (abreviado como **nt**). Cada nucleotídeo é formado por três partes: uma molécula de açúcar, um íon com carga negativa chamado fosfato, e um composto chamado nucleobase (ou simplesmente \"base\"). A polimerização é alcançada quando o açúcar de um nucleotídeo se liga ao fosfato do nucleotídeo seguinte na cadeia, formando um esqueleto açúcar-fosfato para o filamento de ácido nucleico. Um ponto chave é que os nucleotídeos de um tipo específico de ácido nucleico sempre contêm o mesmo açúcar e fosfato, e diferem apenas na escolha da base. Assim, um filamento de ácido nucleico pode ser diferenciado de outro apenas pela ordem de suas bases; essa ordenação das bases define a estrutura primária de um ácido nucleico.\n",
        "\n",
        "Por exemplo, a Figura 2 mostra um filamento de ácido desoxirribonucleico (DNA), no qual o açúcar é chamado desoxirribose, e as únicas quatro opções de nucleobases são moléculas chamadas adenina (A), citosina (C), guanina (G) e timina (T).\n",
        "\n",
        "![Figura 2](https://rosalind.info/media/problems/dna/DNA_chemical_structure.png)\n",
        "\n",
        "> **Figura 2.** Um esboço da estrutura primária do DNA.\n",
        "\n",
        "Por razões que em breve veremos, o DNA é encontrado em todos os organismos vivos da Terra, incluindo as bactérias; ele também é encontrado em muitos vírus (que muitas vezes são considerados seres não vivos). Devido à sua importância, reservamos o termo **genoma** para nos referirmos ao conjunto total de DNA contido nos cromossomos de um organismo.\n",
        "\n",
        "Fonte: [Counting DNA Nucleotides](https://rosalind.info/problems/dna/)"
      ],
      "metadata": {
        "id": "2xddzdjYleXu"
      }
    },
    {
      "cell_type": "markdown",
      "source": [
        "### Problema\n",
        "\n",
        "Uma string é simplesmente uma coleção ordenada de símbolos selecionados de um certo alfabeto e formada em uma palavra; o comprimento de uma string é o número de símbolos que ela contém.\n",
        "\n",
        "Um exemplo de uma string de DNA com comprimento 21 (cujo alfabeto contém os símbolos 'A', 'C', 'G' e 'T') é \"ATGCTTCAGAAAGGTCTTACG.\"\n",
        "\n",
        "**Dado:**  \n",
        "Uma string de DNA `s` com comprimento de no máximo 1000 nucleotídeos (nt).\n",
        "\n",
        "**Retorne:**  \n",
        "Quatro números inteiros (separados por espaços) que contem o respectivo número de vezes que os símbolos 'A', 'C', 'G' e 'T' ocorrem em `s`.\n"
      ],
      "metadata": {
        "id": "SDqw7rVHxHAl"
      }
    },
    {
      "cell_type": "code",
      "source": [
        "s = 'CCTGCACCTGCGCCCCCTGTAACACGTTTCAAAGCCTTGCAGTTCTTCAGTGAAATTCCACCGCAATGGGTAGAAAGCGCGGGATTATGTTGGACAGATTTAAGGGGGGCCCGTACTTCTAACACCAAAAGACTCCCTGAATAGCTCTCGTCAGAACCATGTGTAATAACGGCGAACTCAGCCTTTCGGTTAGCTACAACGTATCGGGGCCGACACTTGTTACGCAACAGCAAAGGCTGTCGTGGTTCGTGCGAGCATTTCGCGTCGTCTTCGCCTACGAAGTTGTGACGGCATGAAATAGCGTTTAGATACTTAGATATACGACCCAGAGTAACATTTGCATGCCATGTCCTTAGTGGAGTAAAATGCTCAGCTACTCCCCTGATGATTTAGTCCGATTTAAGAACGCTTTTATTTTTAGGGCGTTATGCTATGTCAGTCATTATATAAGTGATGCGATATAACTGTGGTATCCGCGGAGACTTTGATGGTGGAACAACCAGTCCTTGAACAGGAGATACAGGACCATCAGGGGTAACTCAATAGATGAAGGAACGTTTGTGTACGTCTTTACGAAGCGCTCGTAAAATAGGCAAAGGTGATCGTTTGGCCCTTCCAATGCGCGTTTCATAGAGAGCTTCCTCTGTTCGTCATGCTTCAATGACAGGCGTCGAGAGTGCCGTCCTACCCTCGATCGGGCCAGTTATAAATAAGCCGTTAGGGCCATGCCTTTCTATATTTTGTTGTTCCCTTCGCTCTTGGTAGGAGACTCGTGTGCCACTCGATGGGCCTAGCGTGCAGTCAATGCGTGGGGGGCCCGTATTTAGAAACACTGCCTTAATACTACTTATGGAACGCCCCGATACCTTCGCCAGGCGGGAGTCGCCAGTTTCTGGGT'"
      ],
      "metadata": {
        "id": "NTP-rCcgEi21"
      },
      "execution_count": null,
      "outputs": []
    },
    {
      "cell_type": "code",
      "source": [
        "def contador_nucleobases(dado):\n",
        "  A = s.count('A')\n",
        "  C = s.count('C')\n",
        "  G = s.count('G')\n",
        "  T = s.count('T')\n",
        "  return A, C, G, T\n",
        "\n",
        "contador_nucleobases(s)"
      ],
      "metadata": {
        "colab": {
          "base_uri": "https://localhost:8080/"
        },
        "id": "1V8koeI8xi6B",
        "outputId": "df409615-8091-4ba5-c6f7-fea74298a7f0"
      },
      "execution_count": null,
      "outputs": [
        {
          "output_type": "execute_result",
          "data": {
            "text/plain": [
              "(215, 213, 226, 244)"
            ]
          },
          "metadata": {},
          "execution_count": 14
        }
      ]
    }
  ]
}