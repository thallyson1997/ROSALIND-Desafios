{
 "cells": [
  {
   "cell_type": "markdown",
   "id": "8b9eca5c",
   "metadata": {},
   "source": [
    "# O Código Genético"
   ]
  },
  {
   "cell_type": "markdown",
   "id": "77c8b690",
   "metadata": {},
   "source": [
    "Assim como os ácidos nucleicos são polímeros de nucleotídeos, proteínas são cadeias de moléculas menores chamadas aminoácidos; 20 aminoácidos aparecem comumente em todas as espécies. Assim como a estrutura primária de um ácido nucleico é dada pela ordem de seus nucleotídeos, a estrutura primária de uma proteína é a ordem de seus aminoácidos. Algumas proteínas são compostas por várias subcadeias chamadas polipeptídeos, enquanto outras são formadas por um único polipeptídeo; veja a Figura 1.\n",
    "\n",
    "![Figura 1](https://rosalind.info/media/problems/prot/haemoglobin.png)\n",
    "\n",
    "> **Figura 1.** A molécula de hemoglobina humana consiste em 4 cadeias polipeptídicas; subunidades α são mostradas em vermelho e subunidades β são mostradas em azul.\n",
    "\n",
    "As proteínas impulsionam toda função prática realizada pela célula e, portanto, presume-se que a chave para entender a vida está na interpretação da relação entre uma cadeia de aminoácidos e a função da proteína que essa cadeia eventualmente constrói. Proteômica é o campo dedicado ao estudo das proteínas.\n",
    "\n",
    "**Como as proteínas são criadas?** O código genético, descoberto ao longo de uma série de experimentos engenhosos no final da década de 1950, detalha a tradução de uma molécula de RNA chamada RNA mensageiro (mRNA) em aminoácidos para criação de proteínas. A aparente dificuldade na tradução é que, de alguma forma, 4 bases de RNA devem ser traduzidas em uma linguagem de 20 aminoácidos; para que cada aminoácido possível seja criado, devemos traduzir cadeias de 3 nucleobases (chamadas códons) em aminoácidos. Note que existem $4^3 = 64$ códons possíveis, de modo que múltiplos códons podem codificar o mesmo aminoácido. Dois tipos especiais de códons são o códon de início (AUG), que codifica o aminoácido metionina e sempre indica o início da tradução, e os três códons de parada (UAA, UAG, UGA), que não codificam nenhum aminoácido e fazem com que a tradução termine.\n",
    "\n",
    "A noção de que a proteína é sempre criada a partir do RNA, que por sua vez é sempre criado a partir do DNA, forma o dogma central da biologia molecular. Como todo dogma, não é sempre verdadeiro; no entanto, oferece uma excelente aproximação da verdade.\n",
    "\n",
    "Uma organela chamada ribossomo cria peptídeos usando uma molécula auxiliar chamada RNA transportador (tRNA). Uma única molécula de tRNA possui uma sequência de três nucleotídeos de RNA em uma extremidade (chamada anticódon) e um aminoácido na outra extremidade. O ribossomo pega uma molécula de RNA transcrita do DNA (veja “Transcrevendo DNA em RNA”), chamada RNA mensageiro (mRNA), e a examina um códon por vez. A cada etapa, o tRNA que possui o anticódon complementar liga-se ao mRNA neste local, e o aminoácido presente na extremidade oposta do tRNA é adicionado à cadeia peptídica em crescimento, antes que a parte restante do tRNA seja ejetada na célula, e o ribossomo procure a próxima molécula de tRNA.\n",
    "\n",
    "Nem toda base do RNA acaba sendo traduzida em uma proteína, portanto, um trecho de RNA (ou de DNA traduzido em RNA) que codifica uma proteína é de grande interesse biológico; tal trecho de DNA ou RNA é chamado de gene. Como a criação de proteínas impulsiona os processos celulares, os genes diferenciam os organismos e servem como base para a hereditariedade, ou o processo pelo qual as características são herdadas.\n",
    "\n",
    "Link: [Translating RNA into Protein](https://rosalind.info/problems/prot/)"
   ]
  },
  {
   "cell_type": "markdown",
   "id": "68784321",
   "metadata": {},
   "source": [
    "### **Problema**\n",
    "\n",
    "Os 20 aminoácidos que ocorrem comumente são abreviados usando 20 letras do alfabeto inglês (todas exceto B, J, O, U, X e Z). Cadeias de proteínas são construídas a partir desses 20 símbolos. Doravante, o termo cadeia genética incluirá cadeias de proteínas junto com cadeias de DNA e RNA.\n",
    "\n",
    "A tabela de códons do RNA dita os detalhes sobre a codificação de códons específicos no alfabeto de aminoácidos.\n",
    "\n",
    "**Dado**: Uma cadeia de RNA `s` correspondente a uma fita de mRNA (com comprimento de no máximo 10 kbp).\n",
    "\n",
    "**Retorne**: A cadeia de proteína codificada por `s`."
   ]
  },
  {
   "cell_type": "code",
   "execution_count": 26,
   "id": "f4fcf874",
   "metadata": {},
   "outputs": [],
   "source": [
    "#Insira o caminho abaixo\n",
    "caminho = \"C:\\\\Users\\\\usuario\\\\OneDrive\\\\Área de Trabalho\\\\Nova pasta\\\\ROSALIND-Desafios\\\\Dados\\\\rosalind_prot.txt\"\n",
    "\n",
    "with open(caminho, \"r\", encoding=\"utf-8\") as arquivo:\n",
    "    s = arquivo.read()"
   ]
  },
  {
   "cell_type": "code",
   "execution_count": 27,
   "id": "740f5add",
   "metadata": {},
   "outputs": [
    {
     "name": "stdout",
     "output_type": "stream",
     "text": [
      "MCKITQHQDRPKPRISHLVLAKTLYFHLVQRFTSPAQLRETRLAMPLQCLLIWANVLSPGVRASSASDMGSLHKTVAALWFDASLSGHSPGHGIPQIRGMKWVRLQRFTSPRILHDSLPLRTPRSALREIRVKCRWRSILYMVKHENFLVAIVRSGETVRPHTGKYLEDGSTAQWSCKLFLIWRYISVLQGISHSKSVNGEHVQGQASVFKCFREIRETAHCILTTVPRHGRGVIFDLNWEERGLTKASGTIPNEPRLASICPLVVNRSGCITKSWIAMVRQFIVPPVESSPAREFYTASKAVHPGATCNLRSRCRTHSRHVNLMLLQDLYFRTQGIQLLFASNFINRLTVTTPGTVSGIIRRDARRDARVRNPESVALMHRRDVGGQRLNAVWWPSNEVRIFVMQAVILVGHSPARRHSDQKPRTTFLAINMYCAVGTEVYLTEHGTMKVGRCLSLPTFQQRWSRVVLQGVHTCAPAEYGVTPGFVPYVLEGGALNTSPSTQYLARDYKLLCHPRVDTLHNDLSETYSDNPTSPVSGLRLTAHGPFGEAANLRATGTLQRCMRRRSSKGNNHTPCFGYPSNNPPISVYLGRRCPLIVDFRGAPHFFVYFTNRAKDIFHGRTAEERTRPLVPCVTHGHGFRSAEIGIPTHSMRNEGSSTFNWRRQLSVRIASFLKGVMCTERLNSRLKVGLRLYVMVIWRLTIEILGRLRRGLRDEIPGTDRNTSGPHRYSDLPSGTYWCLNHTLPSCVQSFIHRAGMSSSVSVTHVRSIVHQPAIPFVTWNARLLNWALLPSARITVHPSLQSACCEHLATNTFRPSDNNDGPSCTLENRLAKEPGAHCMVMRPGTITRYNHHLEDVDACCSLRISRIVSSVAAYGTDCDPCTVTFHGFEKESQNGSDIHRYRPDECHVFKLRLPRGPQFLLTKGPVVLRTSEGIPRKEAPPLKRRPKLHLIHSCRYGPLRRARSRSEFGLDGGTLYLWRIGQSGGIRCGASSYFQRVSVPAIVDILLQARRAGPWGKQRRLIGYPKGSLKYQCMRRTACIYNGNGTEQDARTTVWAPRVSANELHRFPGTRTADSFLLIAKVPRAYGCAGAINWKNLTTSKRGRPTGSVQARACPIHGDSKTAVFFPALIGAPTCGMRIRHPVAWEICYPTAYTNPVNQLAGTMVSTAPQPNQYIREYACFSNRHLWGVAFVRTYPRIVALVWQIYVRNTVRITVHYLPNRLRTHPIVHPGTPGTCEPRICWRHRDPFNNLDTCTRPRLALWAETFAGGIGGMLSVGVLNMNFLTVMLEDIALPFTRIIVEWFPVVGGLWRYFACRRPIRIGTVGYVSAAVNPAVSARPRDLPFFRLRHLLHRRSRTRRVNRELFIGTVRTGPGDSFVSILLALGLEYAPIDRIFITMHTHLGKSHPTSFPFPYSTEQSTSDFQIMKIVFTGVFYPAISELVQNDEAHCPELTQRYSMSVTSCMATRSPNPGVLGPDLRITFNVPLVRFAIFDPAGPPPQSVEQSVSLIYQARHIRCRGPTACLNFPLPKSLWKHRWSIRTMPRTLTLLEFGRKGLWKGKPTPIFKPAQGDLRLFLFIRSDPAISLPGTFRVRQQAERLAFPGRIDRQSARVARPNPTNENPLGMVHNNWPSTVLVKVRSLPSHCSIMQSHEHPRNQSHGSTTGPQSPLGSPFSDLLLQAWLRRTLLSNLNIRAVCHIWPQMNPNLLSGGSKSVKVSACIRPLIARQPDDYSPVRVPTSHTGELLLNMYGIYYSDRRMSHGGTQANGQLAVNPYGNSFRIWSAILAAVYTLREKRCIEFWQAREGHSPYVNYSLNIYRESGDRWVAVSVGVTYGLEKMGTGTFFTTGRKVARVMAAILELNKPPTLSTGKWLDSGLRELNLIISIMPQPATLARLIIIDRPWRCRPICRHPLRRVTGRPIKFVVDLSSCAPRGICSRRCLESHHMQGVVTLLHTPHHSSISLQALKAVLDERVSLTRRASSECIYSPVMEAAWELVKPFDPCRSTAQGKLDSLRVYKGRPTIWISTLIRTRDTSGDLITGLRPPWRTELHGTLGTFNGTRRSRELSLRGRRRPEQPYITAFESLCQKTKKILQFSCTPPRSSIYEVWLNSPTLVYVSPLGQLHLTQARVKILRKGRFGGSLHNGDVPEEISELGRSKCGSYTPSPCEGAPMDGWRTNLQTNNANQAPLDRRNSMQKQNATPIRYIRMNRYSIICLVNRNGKHPLISRHIYGSASHMIAHSSIIISIKSSSDGKISLWSWLSNRTVIKQKAIIRWRLQGSGLSHGLVHDMFKKRLLKLILYTSVQFSKKAATGKKNQLTRKLSPRNLPSLTRMSCATAKIKVIEVFSPVNQPGSFQAYPAYGRLCRSGGVASDQRRPGQGAIRSPREPQNIRWYCEKPMTWIPGRVVSAVNLADQTVPYLYKYDLVSLYVCSQRWIGSRPVLSNAPPLQELSHESSRCVWSGLDKSSMYAPILPKVTHIVRRRALKCRIGAAVAALQAMYMATRDDDIVEASLSLPLPVGGQCESIAPLGWSRGSCGNSLSPMPMAPESAAWRGGRSVAKVSHGKTEQICIGKDVQASPRQTLVRYPALPICRSRVQPSQYSGREITLWISLLEFDPRGGGSGVLSTADQCRVGRDRCALCRRIPRESYPKYTLDAKLPFRNRPAGRSQFGLFEPIYFHNIQAQCCTYCHRVRRKCPNVVSLNARNDQASAEILGRGNHQGCPSWQNWYVNFVTDCYVNGTGTKGPHQPPPHSNQTLLGAPIIKTELGSPRKRTAAMRSLTQVRISTWSGAVPDVTRRRTNGRYGTAPSRTSEIRLVQTTLNKKPLPNSCLRINAEISPLSGGSCETPAKNQRRGVSITWGTYKTGSRLHNNLLKRIRSTRRYAWRRGQVSCRLSGAESSSRIMLRITGSCSSRLQDGLTYVARPRMVRAVGGYGRIQNIMIPQGAGPEFPRHPTANDDNSSASFEWPAAALRGPGTTRSGRHDCGSHTLLSGAQVMNHVARGISTLHHLCLGCDCCNVDFLRHQNQQRTRSRCPEHDHKVMYITPVRYAGELQPNYIGSNPRIVDSAFQGRSSEGAKFVPDVSHPYVVYHVAGLGLRIRQPYAVKHQRCLATTTGGLRIRDPMLPSIDALRWTASRPYIMGSTVWAPRCLEGGGHPVVVNPVGIGRESVPRSAMSKELGQPSTVWTR\n"
     ]
    }
   ],
   "source": [
    "def traduzir_rna(s):\n",
    "    rna_codons = {\n",
    "        'UUU': 'F', 'UUC': 'F',\n",
    "        'UUA': 'L', 'UUG': 'L', 'CUU': 'L', 'CUC': 'L', 'CUA': 'L', 'CUG': 'L',\n",
    "        'AUU': 'I', 'AUC': 'I', 'AUA': 'I',\n",
    "        'AUG': 'M',\n",
    "        'GUU': 'V', 'GUC': 'V', 'GUA': 'V', 'GUG': 'V',\n",
    "        'UCU': 'S', 'UCC': 'S', 'UCA': 'S', 'UCG': 'S', 'AGU': 'S', 'AGC': 'S',\n",
    "        'CCU': 'P', 'CCC': 'P', 'CCA': 'P', 'CCG': 'P',\n",
    "        'ACU': 'T', 'ACC': 'T', 'ACA': 'T', 'ACG': 'T',\n",
    "        'GCU': 'A', 'GCC': 'A', 'GCA': 'A', 'GCG': 'A',\n",
    "        'UAU': 'Y', 'UAC': 'Y',\n",
    "        'UAA': '-', 'UAG': '-', 'UGA': '-',  # Stop codons\n",
    "        'CAU': 'H', 'CAC': 'H',\n",
    "        'CAA': 'Q', 'CAG': 'Q',\n",
    "        'AAU': 'N', 'AAC': 'N',\n",
    "        'AAA': 'K', 'AAG': 'K',\n",
    "        'GAU': 'D', 'GAC': 'D',\n",
    "        'GAA': 'E', 'GAG': 'E',\n",
    "        'UGU': 'C', 'UGC': 'C',\n",
    "        'UGG': 'W',\n",
    "        'CGU': 'R', 'CGC': 'R', 'CGA': 'R', 'CGG': 'R', 'AGA': 'R', 'AGG': 'R',\n",
    "        'GGU': 'G', 'GGC': 'G', 'GGA': 'G', 'GGG': 'G'\n",
    "        }\n",
    "\n",
    "    s_traduzido = ''\n",
    "\n",
    "    for c in range(0, len(s), 3):\n",
    "        condon = s[c:c+3]\n",
    "        if rna_codons.get(condon) == '-':\n",
    "            break\n",
    "        elif rna_codons.get(condon) is None:\n",
    "            print(f'Codon {condon} não encontrado')\n",
    "            break\n",
    "        else:\n",
    "            s_traduzido += rna_codons[condon]\n",
    "    \n",
    "    return s_traduzido\n",
    "\n",
    "texto = traduzir_rna(s)\n",
    "print(texto)"
   ]
  },
  {
   "cell_type": "code",
   "execution_count": 28,
   "id": "caeef181",
   "metadata": {},
   "outputs": [],
   "source": [
    "# Caminho para o arquivo dentro da pasta Output\n",
    "caminho = \"C:\\\\Users\\\\usuario\\\\OneDrive\\\\Área de Trabalho\\\\Nova pasta\\\\ROSALIND-Desafios\\\\Saidas\\\\rosalind_prot_output.txt\"\n",
    "\n",
    "with open(caminho, \"w\", encoding=\"utf-8\") as arquivo:\n",
    "    arquivo.write(str(texto))"
   ]
  }
 ],
 "metadata": {
  "kernelspec": {
   "display_name": "Python 3",
   "language": "python",
   "name": "python3"
  },
  "language_info": {
   "codemirror_mode": {
    "name": "ipython",
    "version": 3
   },
   "file_extension": ".py",
   "mimetype": "text/x-python",
   "name": "python",
   "nbconvert_exporter": "python",
   "pygments_lexer": "ipython3",
   "version": "3.13.2"
  }
 },
 "nbformat": 4,
 "nbformat_minor": 5
}
