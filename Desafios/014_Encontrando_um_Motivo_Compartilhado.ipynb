{
 "cells": [
  {
   "cell_type": "markdown",
   "id": "9fe9ee21",
   "metadata": {},
   "source": [
    "# Vasculhando a Pilha de Palha"
   ]
  },
  {
   "cell_type": "markdown",
   "id": "5b34a390",
   "metadata": {},
   "source": [
    "Em “Encontrando um Motivo no DNA”, buscamos uma determinada sequência genética conhecida previamente; no entanto, esse problema pressupunha que já sabíamos qual era o motivo. Na prática, biólogos muitas vezes não sabem exatamente o que estão procurando. Em vez disso, precisam analisar simultaneamente vários genomas diferentes para identificar regiões de similaridade que possam indicar genes compartilhados por diferentes organismos ou espécies.\n",
    "\n",
    "A região mais simples de similaridade é um motivo que ocorre sem mutações em todas as sequências genéticas de um conjunto; tal motivo corresponde a uma subcadeia compartilhada por todas as cadeias. Queremos procurar por subcadeias compartilhadas longas, já que um motivo mais longo provavelmente indica uma função compartilhada mais relevante.\n",
    "\n",
    "Link: [Finding a Shared Motif](https://rosalind.info/problems/lcsm/)"
   ]
  },
  {
   "cell_type": "markdown",
   "id": "d2d7b884",
   "metadata": {},
   "source": [
    "### **Problema**\n",
    "\n",
    "Uma subcadeia comum de um conjunto de cadeias é uma subcadeia presente em todas as cadeias do conjunto. Dizemos que uma subcadeia comum é uma subcadeia comum mais longa se não existir outra subcadeia comum mais longa.\n",
    "\n",
    "Por exemplo, “CG” é uma subcadeia comum de “ACGTACGT” e “AACCGTATA”, mas não é a mais longa possível; neste caso, “CGTA” é uma subcadeia comum mais longa de “ACGTACGT” e “AACCGTATA”.\n",
    "\n",
    "Observe que a subcadeia comum mais longa não é necessariamente única; como exemplo simples, “AA” e “CC” são ambas subcadeias comuns mais longas de “AACC” e “CCAA”.\n",
    "\n",
    "**Dado**: Um conjunto de k (k ≤ 100) cadeias de DNA, cada uma com comprimento máximo de 1 kbp, no formato FASTA.\n",
    "\n",
    "**Retorne**: Uma subcadeia comum mais longa do conjunto. (Se existirem múltiplas soluções, você pode retornar qualquer uma delas.)"
   ]
  },
  {
   "cell_type": "code",
   "execution_count": 1,
   "id": "ae6d3e3a",
   "metadata": {},
   "outputs": [],
   "source": [
    "#Insira o caminho abaixo\n",
    "caminho = \"C:\\\\Users\\\\usuario\\\\OneDrive\\\\Área de Trabalho\\\\Nova pasta\\\\ROSALIND-Desafios\\\\Dados\\\\rosalind_lcsm.txt\"\n",
    "\n",
    "with open(caminho, \"r\", encoding=\"utf-8\") as arquivo:\n",
    "    entrada = arquivo.read()"
   ]
  },
  {
   "cell_type": "code",
   "execution_count": 2,
   "id": "f31b92f0",
   "metadata": {},
   "outputs": [
    {
     "name": "stdout",
     "output_type": "stream",
     "text": [
      "CTTGGTGGTCTCGTTACGAATCTACCTAAAGCAGCTAC\n"
     ]
    }
   ],
   "source": [
    "def media(entrada):\n",
    "    entrada = entrada.split('>')[1:]\n",
    "    entrada = [linha.split('\\n') for linha in entrada]\n",
    "    cadeias = [\"\".join(linha[1:]) for linha in entrada]\n",
    "    menor_cadeia = min(cadeias, key=len)\n",
    "    tamanho = len(menor_cadeia)\n",
    "    while tamanho > 0:\n",
    "        n = 0\n",
    "        while n <= len(menor_cadeia) - tamanho:\n",
    "            motivo = menor_cadeia[n:n+tamanho]\n",
    "            if all(motivo in cadeia for cadeia in cadeias):\n",
    "                return motivo\n",
    "            n += 1\n",
    "        tamanho -= 1\n",
    "    return \"\"\n",
    "\n",
    "texto = media(entrada)\n",
    "print(texto)"
   ]
  },
  {
   "cell_type": "code",
   "execution_count": 3,
   "id": "f42ebd59",
   "metadata": {},
   "outputs": [],
   "source": [
    "# Caminho para o arquivo dentro da pasta Output\n",
    "caminho = \"C:\\\\Users\\\\usuario\\\\OneDrive\\\\Área de Trabalho\\\\Nova pasta\\\\ROSALIND-Desafios\\\\Saidas\\\\rosalind_lcsm_output.txt\"\n",
    "\n",
    "with open(caminho, \"w\", encoding=\"utf-8\") as arquivo:\n",
    "    arquivo.write(str(texto))"
   ]
  }
 ],
 "metadata": {
  "kernelspec": {
   "display_name": "Python 3",
   "language": "python",
   "name": "python3"
  },
  "language_info": {
   "codemirror_mode": {
    "name": "ipython",
    "version": 3
   },
   "file_extension": ".py",
   "mimetype": "text/x-python",
   "name": "python",
   "nbconvert_exporter": "python",
   "pygments_lexer": "ipython3",
   "version": "3.13.2"
  }
 },
 "nbformat": 4,
 "nbformat_minor": 5
}
