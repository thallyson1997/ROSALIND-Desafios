{
 "cells": [
  {
   "cell_type": "markdown",
   "id": "ca60b081",
   "metadata": {},
   "source": [
    "## Coelhinhos Travessos"
   ]
  },
  {
   "cell_type": "markdown",
   "id": "89a5c87d",
   "metadata": {},
   "source": [
    "Em 1202, Leonardo de Pisa (conhecido como Fibonacci) propôs um exercício matemático sobre a reprodução de uma população de coelhos. Ele fez as seguintes suposições simplificadas sobre a população:\n",
    "\n",
    "1. A população começa no primeiro mês com um casal de coelhos recém-nascidos.\n",
    "\n",
    "2. Os coelhos atingem a idade reprodutiva após um mês.\n",
    "\n",
    "3. Em qualquer mês, todo coelho em idade reprodutiva acasala com outro coelho em idade reprodutiva.\n",
    "\n",
    "4. Exatamente um mês após o acasalamento, um casal de coelhos (um macho e uma fêmea) nasce.\n",
    "\n",
    "5. Os coelhos nunca morrem nem param de se reproduzir.\n",
    "\n",
    "O exercício de Fibonacci era calcular quantos casais de coelhos existiriam após um ano. Podemos observar que, no segundo mês, o primeiro casal atinge a idade reprodutiva e acasala. No terceiro mês, nasce outro casal de coelhos, totalizando dois casais; o primeiro casal acasala novamente. No quarto mês, outro casal nasce do casal original, enquanto o segundo casal atinge a maturidade e também acasala (totalizando três casais). A dinâmica da população de coelhos está ilustrada na Figura 1. Após um ano, a população conta com 144 casais de coelhos.\n",
    "\n",
    "![](https://rosalind.info/media/problems/fib/rabbit_tree.png)\n",
    "\n",
    "> **Figura 1**. O crescimento da população de coelhos de Fibonacci nos primeiros seis meses.\n",
    "\n",
    "Embora a suposição de Fibonacci sobre a imortalidade dos coelhos possa parecer um exagero, seu modelo não era tão irreal para ambientes sem predadores: coelhos europeus foram introduzidos na Austrália em meados do século XIX, um local sem predadores naturais para eles. Em menos de 50 anos, os coelhos já haviam erradicado várias espécies de plantas por todo o continente, provocando mudanças irreversíveis no ecossistema australiano e transformando vastas áreas de pastagens em regiões erodidas e praticamente inabitáveis do atual Outback (veja a Figura 2).\n",
    "\n",
    "![](https://rosalind.info/media/problems/fib/rabbit_erosion.png)\n",
    "\n",
    "> **Figura 2**. Erosão no Lago Mungo, em Nova Gales do Sul, iniciada por coelhos europeus no século XIX. (Cortesia de Pierre Pouliquin)\n",
    "\n",
    "Neste problema, usaremos a ideia simples de contar coelhos para introduzir um novo tópico computacional, que envolve construir soluções grandes a partir de soluções menores.\n",
    "\n",
    "Link: ['Rabbits and Recurrence Relations'](https://rosalind.info/problems/fib/)"
   ]
  },
  {
   "cell_type": "markdown",
   "id": "bbc617a2",
   "metadata": {},
   "source": [
    "### Problema\n",
    "\n",
    "Uma sequência é uma coleção ordenada de objetos (geralmente números), que podem se repetir. Sequências podem ser finitas ou infinitas. Dois exemplos são a sequência finita (π, −√2, 0, π) e a sequência infinita dos números ímpares (1, 3, 5, 7, 9, …). Usamos a notação *aₙ* para representar o n-ésimo termo de uma sequência.\n",
    "\n",
    "Uma relação de recorrência é uma forma de definir os termos de uma sequência em relação aos valores dos termos anteriores. No caso dos coelhos de Fibonacci da introdução, qualquer mês dado conterá os coelhos que estavam vivos no mês anterior, mais qualquer nova cria. Uma observação-chave é que o número de filhotes em qualquer mês é igual ao número de coelhos que estavam vivos dois meses antes. Como resultado, se *Fₙ* representa o número de casais de coelhos vivos após o n-ésimo mês, então obtemos a sequência de Fibonacci com termos *Fₙ* definidos pela relação de recorrência *Fₙ = Fₙ₋₁ + Fₙ₋₂* (com *F₁ = F₂ = 1* para iniciar a sequência). Embora a sequência leve o nome de Fibonacci, ela já era conhecida por matemáticos indianos há mais de dois milênios.\n",
    "\n",
    "Ao encontrar o n-ésimo termo de uma sequência definida por uma relação de recorrência, podemos simplesmente usar essa relação para gerar termos para valores progressivamente maiores de *n*. Este problema nos introduz à técnica computacional de programação dinâmica, que constrói soluções sucessivamente utilizando as respostas de casos menores.\n",
    "\n",
    "**Dado:** Números inteiros positivos *n ≤ 40* e *k ≤ 5*.\n",
    "\n",
    "**Retorne:** O número total de casais de coelhos que estarão presentes após *n* meses, se começarmos com 1 casal e, em cada geração, cada casal de coelhos em idade reprodutiva produzir *k* casais de filhotes (em vez de apenas 1 casal)."
   ]
  },
  {
   "cell_type": "code",
   "execution_count": 1,
   "id": "352e4727",
   "metadata": {},
   "outputs": [],
   "source": [
    "#Insira o caminho abaixo\n",
    "caminho = \"C:\\\\Users\\\\usuario\\\\OneDrive\\\\Área de Trabalho\\\\Nova pasta\\\\ROSALIND-Desafios\\\\Dados\\\\rosalind_fib.txt\"\n",
    "\n",
    "with open(caminho, \"r\", encoding=\"utf-8\") as arquivo:\n",
    "    texto = arquivo.read()\n",
    "    n = int(texto.split(' ')[0])\n",
    "    k = int(texto.split(' ')[1])"
   ]
  },
  {
   "cell_type": "code",
   "execution_count": 2,
   "id": "af558b07",
   "metadata": {},
   "outputs": [
    {
     "name": "stdout",
     "output_type": "stream",
     "text": [
      "170361678269\n"
     ]
    }
   ],
   "source": [
    "def coelhos(n, k):\n",
    "    casal_não_reprodutivo = 1\n",
    "    casal_reprodutivo = 0\n",
    "    for mes in range(1, n):\n",
    "        if mes == 1:\n",
    "            casal_não_reprodutivo = 0\n",
    "            casal_reprodutivo = 1\n",
    "        else:\n",
    "            adultos = casal_não_reprodutivo\n",
    "            casal_não_reprodutivo = k * casal_reprodutivo\n",
    "            casal_reprodutivo = casal_reprodutivo + adultos\n",
    "    return(casal_não_reprodutivo + casal_reprodutivo)\n",
    "\n",
    "\n",
    "texto = str(coelhos(n, k))\n",
    "print(texto)"
   ]
  },
  {
   "cell_type": "code",
   "execution_count": 3,
   "id": "6338ba8e",
   "metadata": {},
   "outputs": [],
   "source": [
    "# Caminho para o arquivo dentro da pasta Output\n",
    "caminho = \"C:\\\\Users\\\\usuario\\\\OneDrive\\\\Área de Trabalho\\\\Nova pasta\\\\ROSALIND-Desafios\\\\Saidas\\\\rosalind_fib_output.txt\"\n",
    "\n",
    "with open(caminho, \"w\", encoding=\"utf-8\") as arquivo:\n",
    "    arquivo.write(texto)"
   ]
  }
 ],
 "metadata": {
  "kernelspec": {
   "display_name": "Python 3",
   "language": "python",
   "name": "python3"
  },
  "language_info": {
   "codemirror_mode": {
    "name": "ipython",
    "version": 3
   },
   "file_extension": ".py",
   "mimetype": "text/x-python",
   "name": "python",
   "nbconvert_exporter": "python",
   "pygments_lexer": "ipython3",
   "version": "3.13.2"
  }
 },
 "nbformat": 4,
 "nbformat_minor": 5
}
