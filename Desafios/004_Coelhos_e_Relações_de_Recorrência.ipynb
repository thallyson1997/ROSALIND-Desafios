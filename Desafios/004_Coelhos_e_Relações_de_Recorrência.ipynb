{
 "cells": [
  {
   "cell_type": "markdown",
   "id": "ca60b081",
   "metadata": {},
   "source": [
    "## Coelhinhos Travessos"
   ]
  },
  {
   "cell_type": "markdown",
   "id": "89a5c87d",
   "metadata": {},
   "source": [
    "Em 1202, Leonardo de Pisa (conhecido como Fibonacci) propôs um exercício matemático sobre a reprodução de uma população de coelhos. Ele fez as seguintes suposições simplificadas sobre a população:\n",
    "\n",
    "1. A população começa no primeiro mês com um casal de coelhos recém-nascidos.\n",
    "\n",
    "2. Os coelhos atingem a idade reprodutiva após um mês.\n",
    "\n",
    "3. Em qualquer mês, todo coelho em idade reprodutiva acasala com outro coelho em idade reprodutiva.\n",
    "\n",
    "4. Exatamente um mês após o acasalamento, um casal de coelhos (um macho e uma fêmea) nasce.\n",
    "\n",
    "5. Os coelhos nunca morrem nem param de se reproduzir.\n",
    "\n",
    "O exercício de Fibonacci era calcular quantos casais de coelhos existiriam após um ano. Podemos observar que, no segundo mês, o primeiro casal atinge a idade reprodutiva e acasala. No terceiro mês, nasce outro casal de coelhos, totalizando dois casais; o primeiro casal acasala novamente. No quarto mês, outro casal nasce do casal original, enquanto o segundo casal atinge a maturidade e também acasala (totalizando três casais). A dinâmica da população de coelhos está ilustrada na Figura 1. Após um ano, a população conta com 144 casais de coelhos.\n",
    "\n",
    "![](https://rosalind.info/media/problems/fib/rabbit_tree.png)\n",
    "\n",
    "> Figura 1. O crescimento da população de coelhos de Fibonacci nos primeiros seis meses.\n",
    "\n",
    "Embora a suposição de Fibonacci sobre a imortalidade dos coelhos possa parecer um exagero, seu modelo não era tão irreal para ambientes sem predadores: coelhos europeus foram introduzidos na Austrália em meados do século XIX, um local sem predadores naturais para eles. Em menos de 50 anos, os coelhos já haviam erradicado várias espécies de plantas por todo o continente, provocando mudanças irreversíveis no ecossistema australiano e transformando vastas áreas de pastagens em regiões erodidas e praticamente inabitáveis do atual Outback (veja a Figura 2).\n",
    "\n",
    "![](https://rosalind.info/media/problems/fib/rabbit_erosion.png)\n",
    "\n",
    "> Figura 2. Erosão no Lago Mungo, em Nova Gales do Sul, iniciada por coelhos europeus no século XIX. (Cortesia de Pierre Pouliquin)\n",
    "\n",
    "Neste problema, usaremos a ideia simples de contar coelhos para introduzir um novo tópico computacional, que envolve construir soluções grandes a partir de soluções menores.\n",
    "\n",
    "Link: ['Rabbits and Recurrence Relations'](https://rosalind.info/problems/fib/)"
   ]
  },
  {
   "cell_type": "markdown",
   "id": "bbc617a2",
   "metadata": {},
   "source": [
    "### Problema\n",
    "\n",
    "Uma sequência é uma coleção ordenada de objetos (geralmente números), que podem se repetir. Sequências podem ser finitas ou infinitas. Dois exemplos são a sequência finita (π, −√2, 0, π) e a sequência infinita dos números ímpares (1, 3, 5, 7, 9, …). Usamos a notação *aₙ* para representar o n-ésimo termo de uma sequência.\n",
    "\n",
    "Uma relação de recorrência é uma forma de definir os termos de uma sequência em relação aos valores dos termos anteriores. No caso dos coelhos de Fibonacci da introdução, qualquer mês dado conterá os coelhos que estavam vivos no mês anterior, mais qualquer nova cria. Uma observação-chave é que o número de filhotes em qualquer mês é igual ao número de coelhos que estavam vivos dois meses antes. Como resultado, se *Fₙ* representa o número de casais de coelhos vivos após o n-ésimo mês, então obtemos a sequência de Fibonacci com termos *Fₙ* definidos pela relação de recorrência *Fₙ = Fₙ₋₁ + Fₙ₋₂* (com *F₁ = F₂ = 1* para iniciar a sequência). Embora a sequência leve o nome de Fibonacci, ela já era conhecida por matemáticos indianos há mais de dois milênios.\n",
    "\n",
    "Ao encontrar o n-ésimo termo de uma sequência definida por uma relação de recorrência, podemos simplesmente usar essa relação para gerar termos para valores progressivamente maiores de *n*. Este problema nos introduz à técnica computacional de programação dinâmica, que constrói soluções sucessivamente utilizando as respostas de casos menores.\n",
    "\n",
    "**Dado:** Números inteiros positivos *n ≤ 40* e *k ≤ 5*.\n",
    "\n",
    "**Retorne:** O número total de casais de coelhos que estarão presentes após *n* meses, se começarmos com 1 casal e, em cada geração, cada casal de coelhos em idade reprodutiva produzir *k* casais de filhotes (em vez de apenas 1 casal)."
   ]
  },
  {
   "cell_type": "code",
   "execution_count": 27,
   "id": "352e4727",
   "metadata": {},
   "outputs": [],
   "source": [
    "n = int(input())\n",
    "k = int(input())"
   ]
  },
  {
   "cell_type": "code",
   "execution_count": 28,
   "id": "af558b07",
   "metadata": {},
   "outputs": [
    {
     "name": "stdout",
     "output_type": "stream",
     "text": [
      "Mês: 1, Casais: 1\n",
      "Mês: 2, Casais: 1\n",
      "Mês: 3, Casais: 5\n",
      "Mês: 4, Casais: 9\n",
      "Mês: 5, Casais: 29\n",
      "Mês: 6, Casais: 65\n",
      "Mês: 7, Casais: 181\n",
      "Mês: 8, Casais: 441\n",
      "Mês: 9, Casais: 1165\n",
      "Mês: 10, Casais: 2929\n",
      "Mês: 11, Casais: 7589\n",
      "Mês: 12, Casais: 19305\n",
      "Mês: 13, Casais: 49661\n",
      "Mês: 14, Casais: 126881\n",
      "Mês: 15, Casais: 325525\n",
      "Mês: 16, Casais: 833049\n",
      "Mês: 17, Casais: 2135149\n",
      "Mês: 18, Casais: 5467345\n",
      "Mês: 19, Casais: 14007941\n",
      "Mês: 20, Casais: 35877321\n",
      "Mês: 21, Casais: 91909085\n",
      "Mês: 22, Casais: 235418369\n",
      "Mês: 23, Casais: 603054709\n",
      "Mês: 24, Casais: 1544728185\n",
      "Mês: 25, Casais: 3956947021\n",
      "Mês: 26, Casais: 10135859761\n",
      "Mês: 27, Casais: 25963647845\n",
      "Mês: 28, Casais: 66507086889\n",
      "Mês: 29, Casais: 170361678269\n"
     ]
    },
    {
     "data": {
      "text/plain": [
       "170361678269"
      ]
     },
     "execution_count": 28,
     "metadata": {},
     "output_type": "execute_result"
    }
   ],
   "source": [
    "def coelhos(n, k):\n",
    "    casal_não_reprodutivo = 1\n",
    "    casal_reprodutivo = 0\n",
    "    print(f'Mês: 1, Casais: 1')\n",
    "    for mes in range(1, n):\n",
    "        if mes == 1:\n",
    "            casal_não_reprodutivo = 0\n",
    "            casal_reprodutivo = 1\n",
    "            print(f'Mês: {mes + 1}, Casais: {casal_reprodutivo + casal_não_reprodutivo}')\n",
    "        else:\n",
    "            adultos = casal_não_reprodutivo\n",
    "            casal_não_reprodutivo = k * casal_reprodutivo\n",
    "            casal_reprodutivo = casal_reprodutivo + adultos\n",
    "            print(f'Mês: {mes + 1}, Casais: {casal_reprodutivo + casal_não_reprodutivo}')\n",
    "    return(casal_não_reprodutivo + casal_reprodutivo)\n",
    "\n",
    "\n",
    "coelhos(n, k)"
   ]
  },
  {
   "cell_type": "code",
   "execution_count": null,
   "id": "6338ba8e",
   "metadata": {},
   "outputs": [],
   "source": []
  }
 ],
 "metadata": {
  "kernelspec": {
   "display_name": "Python 3",
   "language": "python",
   "name": "python3"
  },
  "language_info": {
   "codemirror_mode": {
    "name": "ipython",
    "version": 3
   },
   "file_extension": ".py",
   "mimetype": "text/x-python",
   "name": "python",
   "nbconvert_exporter": "python",
   "pygments_lexer": "ipython3",
   "version": "3.13.2"
  }
 },
 "nbformat": 4,
 "nbformat_minor": 5
}
