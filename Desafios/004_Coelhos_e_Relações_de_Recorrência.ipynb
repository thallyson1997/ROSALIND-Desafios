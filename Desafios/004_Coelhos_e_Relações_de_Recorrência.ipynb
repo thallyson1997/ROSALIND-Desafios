{
 "cells": [
  {
   "cell_type": "markdown",
   "id": "ca60b081",
   "metadata": {},
   "source": [
    "## Coelhinhos Travessos"
   ]
  },
  {
   "cell_type": "markdown",
   "id": "89a5c87d",
   "metadata": {},
   "source": [
    "Em 1202, Leonardo de Pisa (conhecido como Fibonacci) propôs um exercício matemático sobre a reprodução de uma população de coelhos. Ele fez as seguintes suposições simplificadas sobre a população:\n",
    "\n",
    "1. A população começa no primeiro mês com um casal de coelhos recém-nascidos.\n",
    "\n",
    "2. Os coelhos atingem a idade reprodutiva após um mês.\n",
    "\n",
    "3. Em qualquer mês, todo coelho em idade reprodutiva acasala com outro coelho em idade reprodutiva.\n",
    "\n",
    "4. Exatamente um mês após o acasalamento, um casal de coelhos (um macho e uma fêmea) nasce.\n",
    "\n",
    "5. Os coelhos nunca morrem nem param de se reproduzir.\n",
    "\n",
    "O exercício de Fibonacci era calcular quantos casais de coelhos existiriam após um ano. Podemos observar que, no segundo mês, o primeiro casal atinge a idade reprodutiva e acasala. No terceiro mês, nasce outro casal de coelhos, totalizando dois casais; o primeiro casal acasala novamente. No quarto mês, outro casal nasce do casal original, enquanto o segundo casal atinge a maturidade e também acasala (totalizando três casais). A dinâmica da população de coelhos está ilustrada na Figura 1. Após um ano, a população conta com 144 casais de coelhos.\n",
    "\n",
    "![](https://rosalind.info/media/problems/fib/rabbit_tree.png)\n",
    "\n",
    "> Figura 1. O crescimento da população de coelhos de Fibonacci nos primeiros seis meses.\n",
    "\n",
    "Embora a suposição de Fibonacci sobre a imortalidade dos coelhos possa parecer um exagero, seu modelo não era tão irreal para ambientes sem predadores: coelhos europeus foram introduzidos na Austrália em meados do século XIX, um local sem predadores naturais para eles. Em menos de 50 anos, os coelhos já haviam erradicado várias espécies de plantas por todo o continente, provocando mudanças irreversíveis no ecossistema australiano e transformando vastas áreas de pastagens em regiões erodidas e praticamente inabitáveis do atual Outback (veja a Figura 2).\n",
    "\n",
    "![](https://rosalind.info/media/problems/fib/rabbit_erosion.png)\n",
    "\n",
    "> Figura 2. Erosão no Lago Mungo, em Nova Gales do Sul, iniciada por coelhos europeus no século XIX. (Cortesia de Pierre Pouliquin)\n",
    "\n",
    "Neste problema, usaremos a ideia simples de contar coelhos para introduzir um novo tópico computacional, que envolve construir soluções grandes a partir de soluções menores.\n",
    "\n",
    "Link: ['Rabbits and Recurrence Relations'](https://rosalind.info/problems/fib/)"
   ]
  },
  {
   "cell_type": "markdown",
   "id": "bbc617a2",
   "metadata": {},
   "source": []
  }
 ],
 "metadata": {
  "language_info": {
   "name": "python"
  }
 },
 "nbformat": 4,
 "nbformat_minor": 5
}
