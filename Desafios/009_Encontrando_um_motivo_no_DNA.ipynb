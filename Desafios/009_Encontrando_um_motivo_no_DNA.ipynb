{
 "cells": [
  {
   "cell_type": "markdown",
   "id": "8b9eca5c",
   "metadata": {},
   "source": [
    "# Vasculhando a Pilha de Palha"
   ]
  },
  {
   "cell_type": "markdown",
   "id": "77c8b690",
   "metadata": {},
   "source": [
    "Definimos um **motivo** como tal intervalo de DNA compartilhado comumente. Uma tarefa comum na biologia molecular é buscar no genoma de um organismo por um motivo já conhecido.\n",
    "\n",
    "A situação se complica pelo fato de que os genomas estão repletos de intervalos de DNA que ocorrem múltiplas vezes (possivelmente com modificações sutis), chamados de **repetições**. Essas repetições ocorrem com muito mais frequência do que seria esperado ao acaso, o que indica que os genomas estão longe de serem aleatórios e, de fato, mostram que a linguagem do DNA deve ser muito poderosa (compare com a reutilização frequente de palavras comuns em qualquer idioma humano).\n",
    "\n",
    "A repetição mais comum nos humanos é a **repetição Alu**, com cerca de 300 pares de bases de comprimento e que ocorre aproximadamente um milhão de vezes em cada genoma humano (veja a Figura 1). No entanto, não se encontrou até hoje uma função positiva para o Alu, e ele aparenta ser parasítico: quando uma nova repetição Alu é inserida em um genoma, frequentemente causa distúrbios genéticos.\n",
    "\n",
    "![Figura 1](https://darwinedeus.blogfolha.uol.com.br/files/2020/07/cromossomos-felizes.jpg)\n",
    "\n",
    "> **Figura 1.** Cromossomos humanos corados com uma sonda para elementos Alu, mostrados em verde.\n",
    "Encontrar o mesmo intervalo de DNA nos genomas de dois organismos diferentes (frequentemente de espécies distintas) é um forte indicativo de que esse intervalo possui a mesma função em ambos os organismos.\n",
    "\n",
    "Link: [Finding a Motif in DNA](https://rosalind.info/problems/subs/)"
   ]
  },
  {
   "cell_type": "markdown",
   "id": "68784321",
   "metadata": {},
   "source": [
    "### **Problema**\n",
    "\n",
    "Dadas duas cadeias de DNA `s` e `t`, dizemos que `t` é uma **subcadeia** de `s` se `t` estiver contida como uma sequência contínua de símbolos dentro de `s` (como consequência, `t` não pode ser maior que `s`).\n",
    "\n",
    "A **posição** de um símbolo em uma cadeia é o número total de símbolos à sua esquerda, incluindo ele próprio (por exemplo, as posições de todas as ocorrências de `'U'` em `\"AUGCUUCAGAAAGGUCUUACG\"` são 2, 5, 6, 15, 17 e 18). O símbolo na posição `i` de `s` é denotado por `s[i]`.\n",
    "\n",
    "Uma subcadeia de `s` pode ser representada como `s[j:k]`, onde `j` e `k` representam as posições inicial e final da subcadeia em `s`; por exemplo, se `s = \"AUGCUUCAGAAAGGUCUUACG\"`, então `s[2:5] = \"UGCU\"`.\n",
    "\n",
    "A **localização** de uma subcadeia `s[j:k]` é sua posição inicial `j`; note que `t` poderá ter **múltiplas localizações** em `s` se ocorrer mais de uma vez como subcadeia de `s` (veja o exemplo abaixo).\n",
    "\n",
    "**Dado**: Duas cadeias de DNA `s` e `t` (cada uma com no máximo 1 kbp de comprimento).\n",
    "\n",
    "**Retorne**: Todas as localizações de `t` como subcadeia de `s`."
   ]
  },
  {
   "cell_type": "code",
   "execution_count": 5,
   "id": "f4fcf874",
   "metadata": {},
   "outputs": [],
   "source": [
    "#Insira o caminho abaixo\n",
    "caminho = \"C:\\\\Users\\\\usuario\\\\OneDrive\\\\Área de Trabalho\\\\Nova pasta\\\\ROSALIND-Desafios\\\\Dados\\\\rosalind_subs.txt\"\n",
    "\n",
    "with open(caminho, \"r\", encoding=\"utf-8\") as arquivo:\n",
    "    entrada = arquivo.read().split('\\n')\n",
    "\n",
    "s = entrada[0]\n",
    "t = entrada[1]"
   ]
  },
  {
   "cell_type": "code",
   "execution_count": 6,
   "id": "740f5add",
   "metadata": {},
   "outputs": [
    {
     "name": "stdout",
     "output_type": "stream",
     "text": [
      "8 38 81 112 127 142 231 294 319 335 342 457 474 489 522 544 568 631 638 743\n"
     ]
    }
   ],
   "source": [
    "def encontrar_subcadeias(s, t):\n",
    "    posicoes = []\n",
    "    tamanho_t = len(t)\n",
    "    for i in range(len(s) - tamanho_t + 1):\n",
    "        if s[i:i + tamanho_t] == t:\n",
    "            posicoes.append(i + 1)\n",
    "\n",
    "    return \" \".join(map(str, posicoes))\n",
    "\n",
    "texto = encontrar_subcadeias(s, t)\n",
    "print(texto)"
   ]
  },
  {
   "cell_type": "code",
   "execution_count": 7,
   "id": "caeef181",
   "metadata": {},
   "outputs": [],
   "source": [
    "# Caminho para o arquivo dentro da pasta Output\n",
    "caminho = \"C:\\\\Users\\\\usuario\\\\OneDrive\\\\Área de Trabalho\\\\Nova pasta\\\\ROSALIND-Desafios\\\\Saidas\\\\rosalind_subs_output.txt\"\n",
    "\n",
    "with open(caminho, \"w\", encoding=\"utf-8\") as arquivo:\n",
    "    arquivo.write(str(texto))"
   ]
  }
 ],
 "metadata": {
  "kernelspec": {
   "display_name": "Python 3",
   "language": "python",
   "name": "python3"
  },
  "language_info": {
   "codemirror_mode": {
    "name": "ipython",
    "version": 3
   },
   "file_extension": ".py",
   "mimetype": "text/x-python",
   "name": "python",
   "nbconvert_exporter": "python",
   "pygments_lexer": "ipython3",
   "version": "3.13.2"
  }
 },
 "nbformat": 4,
 "nbformat_minor": 5
}
