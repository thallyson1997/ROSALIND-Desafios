{
 "cells": [
  {
   "cell_type": "markdown",
   "id": "beb4303b",
   "metadata": {},
   "source": [
    "## Evolução como uma Sequência de Erros"
   ]
  },
  {
   "cell_type": "markdown",
   "id": "9e65be41",
   "metadata": {},
   "source": [
    "Uma mutação é simplesmente um erro que ocorre durante a criação ou cópia de um ácido nucleico, em particular o DNA. Como os ácidos nucleicos são vitais para as funções celulares, as mutações tendem a causar um efeito em cadeia por toda a célula. Embora as mutações sejam tecnicamente erros, uma mutação muito rara pode dotar a célula de uma característica benéfica. De fato, os efeitos macro da evolução são atribuíveis ao resultado acumulado de mutações microscópicas benéficas ao longo de muitas gerações.\n",
    "\n",
    "O tipo mais simples e comum de mutação em ácidos nucleicos é a mutação pontual, que substitui uma base por outra em um único nucleotídeo. No caso do DNA, uma mutação pontual deve alterar a base complementar de forma correspondente; veja a Figura 1.\n",
    "\n",
    "![Figura 1](https://rosalind.info/media/problems/hamm/point_mutation.png)\n",
    "\n",
    "> Figura 1. Uma mutação pontual no DNA mudando um par C-G para um par A-T.\n",
    "\n",
    "Duas fitas de DNA retiradas de genomas de organismos ou espécies diferentes são homólogas se compartilham um ancestral recente; assim, contar o número de bases nas quais as fitas homólogas diferem nos fornece o número mínimo de mutações pontuais que poderiam ter ocorrido no caminho evolutivo entre as duas fitas.\n",
    "\n",
    "Estamos interessados em minimizar o número de mutações (pontuais) que separam duas espécies devido ao princípio biológico da parcimônia, que exige que as histórias evolutivas sejam explicadas da forma mais simples possível.\n",
    "\n",
    "Fonte: [Counting Point Mutations](https://rosalind.info/problems/hamm/)"
   ]
  },
  {
   "cell_type": "markdown",
   "id": "8b2b724b",
   "metadata": {},
   "source": [
    "### Problema\n",
    "\n",
    "Dadas duas cadeias s e t de comprimento igual, a distância de Hamming entre s e t, denotada por dH(s,t), é o número de símbolos correspondentes que diferem em s e t. Veja a Figura 2.\n",
    "\n",
    "![Figura 2](https://rosalind.info/media/problems/hamm/Hamming_distance.png)\n",
    "\n",
    "> Figura 2. A distância de Hamming entre essas duas sequências é 7. Os símbolos incompatíveis são coloridos em vermelho.\n",
    "\n",
    "**Dado**: Duas cadeias de DNA s e t de comprimento igual (não excedendo 1 kbp).\n",
    "\n",
    "**Retorne**: A distância de Hamming dH(s,t)."
   ]
  },
  {
   "cell_type": "code",
   "execution_count": 1,
   "id": "25eb38a0",
   "metadata": {},
   "outputs": [],
   "source": [
    "#Insira o caminho abaixo\n",
    "caminho = \"C:\\\\Users\\\\usuario\\\\OneDrive\\\\Área de Trabalho\\\\Nova pasta\\\\ROSALIND-Desafios\\\\Dados\\\\rosalind_hamm.txt\"\n",
    "\n",
    "with open(caminho, \"r\", encoding=\"utf-8\") as arquivo:\n",
    "    entrada = arquivo.read().split('\\n')\n",
    "\n",
    "s = entrada[0]\n",
    "t = entrada[1]"
   ]
  },
  {
   "cell_type": "code",
   "execution_count": 6,
   "id": "10dff50c",
   "metadata": {},
   "outputs": [],
   "source": [
    "def hamming_distance(s, t):\n",
    "    tamanho = len(s)\n",
    "    hd = 0\n",
    "    for num in range(tamanho):\n",
    "        if s[num] != t[num]:\n",
    "            hd += 1\n",
    "    return hd\n",
    "\n",
    "texto = hamming_distance(s, t)"
   ]
  },
  {
   "cell_type": "code",
   "execution_count": 5,
   "id": "24be44ba",
   "metadata": {},
   "outputs": [],
   "source": [
    "# Caminho para o arquivo dentro da pasta Output\n",
    "caminho = \"C:\\\\Users\\\\usuario\\\\OneDrive\\\\Área de Trabalho\\\\Nova pasta\\\\ROSALIND-Desafios\\\\Saidas\\\\rosalind_hamm_output.txt\"\n",
    "\n",
    "with open(caminho, \"w\", encoding=\"utf-8\") as arquivo:\n",
    "    arquivo.write(str(texto))"
   ]
  },
  {
   "cell_type": "code",
   "execution_count": null,
   "id": "4fa29c57",
   "metadata": {},
   "outputs": [],
   "source": []
  }
 ],
 "metadata": {
  "kernelspec": {
   "display_name": "Python 3",
   "language": "python",
   "name": "python3"
  },
  "language_info": {
   "codemirror_mode": {
    "name": "ipython",
    "version": 3
   },
   "file_extension": ".py",
   "mimetype": "text/x-python",
   "name": "python",
   "nbconvert_exporter": "python",
   "pygments_lexer": "ipython3",
   "version": "3.13.2"
  }
 },
 "nbformat": 4,
 "nbformat_minor": 5
}
