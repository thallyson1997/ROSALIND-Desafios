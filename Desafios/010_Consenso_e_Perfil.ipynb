{
 "cells": [
  {
   "cell_type": "markdown",
   "id": "8b9eca5c",
   "metadata": {},
   "source": [
    "# Encontrando um Ancestral Comum Mais Provável"
   ]
  },
  {
   "cell_type": "markdown",
   "id": "77c8b690",
   "metadata": {},
   "source": [
    "Em “Contando Mutações Pontuais”, calculamos o número mínimo de divergências entre símbolos de duas cadeias de mesmo comprimento para modelar o problema de encontrar o número mínimo de mutações pontuais ocorridas ao longo do caminho evolutivo entre duas fitas homólogas de DNA.\n",
    "Se, em vez disso, tivermos **várias fitas homólogas** que desejamos analisar simultaneamente, o problema natural passa a ser encontrar uma fita média que represente o **ancestral comum mais provável** das fitas fornecidas.\n",
    "\n",
    "Link: [Consensus and Profile](https://rosalind.info/problems/cons/)"
   ]
  },
  {
   "cell_type": "markdown",
   "id": "68784321",
   "metadata": {},
   "source": [
    "### **Problema**\n",
    "\n",
    "Uma **matriz** é uma tabela retangular de valores dividida em linhas e colunas. Uma matriz de dimensão *m × n* possui *m* linhas e *n* colunas. Dada uma matriz `A`, escrevemos `A[i,j]` para indicar o valor localizado na interseção da linha *i* com a coluna *j*.\n",
    "\n",
    "Suponha que temos uma coleção de cadeias de DNA, todas com o mesmo comprimento *n*. A **matriz de perfil** dessas cadeias é uma matriz `4 × n`, na qual:\n",
    "\n",
    "* `P[1,j]` representa o número de vezes que o símbolo `'A'` ocorre na posição *j* das cadeias,\n",
    "* `P[2,j]` representa o número de vezes que `'C'` ocorre na posição *j*,\n",
    "* e assim por diante (veja o exemplo abaixo).\n",
    "\n",
    "Uma **cadeia consenso** `c` é uma cadeia de comprimento *n*, formada a partir da coleção escolhendo-se o símbolo mais comum em cada posição. O símbolo *j*-ésimo de `c` corresponde, portanto, ao símbolo com o valor máximo na *j*-ésima coluna da matriz de perfil.\n",
    "É claro que pode haver mais de um símbolo igualmente mais comum, levando a **múltiplas possíveis cadeias consenso**.\n",
    "\n",
    "---\n",
    "\n",
    "**Exemplo:**\n",
    "\n",
    "```\n",
    "A T C C A G C T  \n",
    "G G G C A A C T  \n",
    "A T G G A T C T  \n",
    "A A G C A A C C  \n",
    "T T G G A A C T  \n",
    "A T G C C A T T  \n",
    "A T G G C A C T  \n",
    "```\n",
    "\n",
    "**Matriz de Perfil:**\n",
    "\n",
    "```\n",
    "A: 5 1 0 0 5 5 0 0  \n",
    "C: 0 0 1 4 2 0 6 1  \n",
    "G: 1 1 6 3 0 1 0 0  \n",
    "T: 1 5 0 0 0 1 1 6  \n",
    "```\n",
    "\n",
    "**Cadeia Consenso:**\n",
    "\n",
    "```\n",
    "A T G C A A C T\n",
    "```\n",
    "\n",
    "---\n",
    "\n",
    "**Dado**: Uma coleção de **no máximo 10 cadeias de DNA**, todas com o mesmo comprimento (até 1 kbp), no formato **FASTA**.\n",
    "\n",
    "**Retorne:** Uma cadeia **consenso** e a **matriz de perfil** da coleção. (Caso existam várias possíveis cadeias consenso, qualquer uma delas pode ser retornada.)\n"
   ]
  },
  {
   "cell_type": "code",
   "execution_count": 25,
   "id": "f4fcf874",
   "metadata": {},
   "outputs": [],
   "source": [
    "#Insira o caminho abaixo\n",
    "caminho = \"C:\\\\Users\\\\usuario\\\\OneDrive\\\\Área de Trabalho\\\\Nova pasta\\\\ROSALIND-Desafios\\\\Dados\\\\rosalind_cons.txt\"\n",
    "\n",
    "with open(caminho, \"r\", encoding=\"utf-8\") as arquivo:\n",
    "    entrada = arquivo.read()"
   ]
  },
  {
   "cell_type": "code",
   "execution_count": 26,
   "id": "740f5add",
   "metadata": {},
   "outputs": [
    {
     "name": "stdout",
     "output_type": "stream",
     "text": [
      "CCGACCCAAACGTAGAGTAGATTACTAATAGCTACATTTGCGATCTTCGTCGGTATCCAATCGTACGTTATATCAACCCTAGGCGTACACGGTTGTCAAAAATCTTACCTCTCCTCACTCGACCATTTGACACTTTCGAACCCAAAGTTCTTTGTAGGTCTTCTGCCGAGAGGTCGTAGGGTATTCTGTAACGAGCAACCTTGCTCTTCGCCTAGTTGTCAGAATTTTTGTACAACACGGACACTTTAAGTAATTAAGAAAACTATTATGCCTATCACCAACACATTCATTATGATATACAAAACTATGTCGACTTGACTAAGTGCCAGTTAGTCCAGTCCGAACATGAAAGGGGAGTACGTCACCAATATAATTGACGCTGTGGTTGACTACTAGAGTAAACATGATATTATTTATTATAGCCATCCGCATCATATTACGGAATCCGAGCGGCTAGCTTACGGACCTAGAGACCGCGAAGTATGGTCTACCCCTGTCTTCTCTAATCGAGCTTGGAGGCTGGAAGACCCATCTTTAAATACATTCGATCCCAAAAACGGCGGAGACCATGTCGCAGCGTTGACACAACTAAACGTAACGTGAGCGACTAGAACTCGGATCACATAGCATTAAAGTAATTGAAAAATGTTTCCGACGGGTAGCTGCAGACCCTTTGGTCCAGAATATTAAGATGTAGTCAGATAGAGTGATTAGGAGAGGTCTATAAAAGCTTGTGCGCGAAATTTTCAATGGGAGTCGGTGTTCGACCATAACTTTCTTTTAGCCATGCTTTCTGATCTTTCATATCGCGCCATTCGTTGACTAGACTGTTAATCGGAGACCTCTAGCAAAGAATATGTTAATTGTGATACCCAATAATTAAAAGAAGGCCCACATAAACCTTCATAGCGCCAAATACGCTGATCAACCTAGTTGACTAATCGTGTCCTGTTCAGAGTAGA\n",
      "A: 3 2 1 5 1 1 2 3 3 3 1 3 3 4 3 5 3 2 3 3 5 2 1 6 2 3 3 3 2 4 2 2 2 3 1 3 2 2 1 2 1 3 5 2 2 2 2 2 2 3 2 2 1 3 4 0 0 2 3 5 1 1 2 1 3 1 2 2 3 4 0 3 2 3 5 5 3 1 2 0 4 1 0 3 2 3 4 1 3 1 2 0 3 2 3 2 2 5 3 4 4 3 2 3 1 1 3 1 4 2 2 2 1 0 1 1 4 2 3 2 1 5 1 2 4 1 2 2 0 3 1 4 3 2 1 1 2 0 3 5 2 1 2 5 5 4 1 3 0 2 2 3 2 2 2 5 1 1 2 2 0 2 1 2 0 1 1 3 4 2 4 2 2 2 2 1 2 3 3 2 1 2 4 2 2 3 1 1 3 4 4 1 2 6 1 3 3 4 2 2 1 1 3 1 1 2 3 3 3 1 2 2 2 4 2 2 0 1 3 1 3 3 4 4 2 1 2 2 3 2 2 5 2 3 3 0 4 2 2 3 4 1 3 2 3 1 1 5 4 2 3 3 6 1 1 3 4 1 4 3 4 6 3 1 3 1 2 3 2 2 2 2 3 4 1 2 3 3 0 5 3 2 4 2 4 3 3 1 4 1 3 3 2 2 3 1 4 1 4 0 5 4 4 4 3 2 3 2 2 0 2 3 3 2 1 2 3 6 2 2 3 6 0 3 3 3 1 5 1 1 1 4 2 2 2 2 6 2 2 1 2 2 5 4 2 3 0 1 4 3 3 2 3 3 3 3 2 2 3 1 2 1 1 4 3 2 5 3 2 3 2 3 4 1 2 1 5 3 2 0 3 3 3 1 3 1 1 4 3 2 1 4 3 2 4 2 4 1 2 3 5 5 1 4 1 1 3 3 4 1 0 5 1 3 3 4 1 1 3 0 5 1 1 1 3 1 1 2 1 3 4 2 1 3 2 3 1 2 4 0 1 1 4 4 1 1 2 2 4 0 2 0 2 1 2 5 2 2 1 3 6 1 3 2 3 1 2 3 7 2 3 2 4 3 3 1 3 3 3 3 2 1 3 2 2 0 2 1 3 4 3 1 2 2 1 1 2 4 0 2 2 2 1 3 3 3 1 1 0 4 3 3 1 2 2 2 5 2 3 2 1 0 1 4 3 3 5 3 2 0 3 2 2 3 2 1 3 4 3 2 3 1 3 0 2 2 3 3 1 2 2 3 4 4 6 4 3 2 2 1 1 2 1 4 2 3 4 2 5 2 0 1 2 2 1 4 1 2 3 1 2 4 4 2 4 0 5 5 1 3 3 3 5 2 2 1 3 4 3 2 1 2 4 2 2 4 5 3 2 5 3 3 5 2 2 2 1 0 4 1 1 3 1 7 3 4 2 1 6 2 1 4 3 5 3 3 3 4 0 2 3 4 3 3 5 5 3 3 2 2 1 2 0 2 3 2 1 1 1 2 3 3 3 1 3 2 5 2 4 2 2 2 2 1 0 3 2 2 1 3 5 2 3 3 2 3 2 2 3 4 2 6 2 2 2 3 1 0 2 4 3 4 1 3 1 3 1 2 3 4 2 2 4 1 3 4 3 4 2 2 3 4 2 6 3 3 6 6 4 2 3 4 2 1 3 2 2 1 2 2 3 4 3 2 1 1 3 2 6 4 2 2 3 1 3 1 3 1 1 2 1 2 1 3 2 2 3 0 1 5 2 4 4 2 2 3 2 3 3 3 2 2 3 2 2 2 3 1 2 2 3 1 2 2 2 2 4 1 3 1 2 2 1 3 1 5 2 2 2 1 2 1 1 3 2 2 3 1 2 1 1 5 3 2 3 1 4 1 3 3 1 1 3 6 0 0 2 1 3 2 3 2 2 2 2 2 4 3 3 3 5 5 1 3 3 3 3 1 0 2 2 4 4 1 1 3 2 2 4 0 3 0 2 1 4 5 1 3 3 2 1 4 4 4 3 2 4 6 1 2 2 1 2 4 2 5 2 3 3 4 3 0 0 3 2 5 1 4 3 2 2 2 3 5 5 3 1 3 2 1 3 2 3 4 2 1 4 3 1 2 2 4 3 1 2 1 3 2 2 4 3 2 1 2 1 1 1 3 3 0 0 2 2 3 3 0 3 1 2 4 3 4\n",
      "C: 4 4 2 1 5 4 4 1 1 3 5 1 1 2 1 2 1 0 3 1 1 1 2 2 6 1 3 3 3 3 2 6 3 3 4 3 2 3 3 1 5 1 1 1 3 3 1 4 2 1 4 1 2 2 2 2 6 5 3 0 2 5 1 4 2 5 3 1 1 0 1 3 3 4 1 2 5 4 6 3 4 3 2 4 2 2 3 4 3 7 2 1 1 2 0 1 6 3 2 1 1 3 2 4 2 3 3 5 5 2 4 2 5 4 3 4 4 4 1 4 3 1 4 5 2 3 3 2 2 3 5 3 5 2 3 1 3 3 3 4 4 6 4 2 0 2 3 0 3 3 3 1 2 3 2 2 3 2 2 4 3 3 4 2 3 5 5 1 3 2 3 2 1 2 4 2 2 2 2 3 1 3 2 2 2 4 3 2 2 2 2 4 3 1 3 4 2 1 5 4 3 2 1 4 3 4 3 0 4 2 4 4 1 2 2 2 3 2 1 5 2 2 1 3 3 0 1 2 2 2 2 1 4 3 3 5 1 3 3 2 3 4 2 4 1 1 3 1 3 1 1 2 2 3 3 2 3 1 1 3 3 0 4 3 3 3 1 3 3 3 4 4 2 2 3 3 1 4 4 4 2 5 3 4 3 2 1 5 3 2 1 3 2 1 2 2 1 2 3 5 4 2 4 4 4 2 3 2 1 1 3 1 2 4 1 3 3 2 4 3 2 2 3 0 2 5 5 0 2 3 1 2 1 2 4 4 1 1 0 5 4 2 2 2 4 3 2 3 0 2 3 3 1 2 1 3 2 2 3 4 2 4 6 3 4 3 0 3 2 2 1 1 3 2 1 3 1 4 3 5 1 2 2 2 2 2 1 1 3 4 3 0 4 2 2 3 1 3 1 3 2 3 5 2 3 3 3 1 2 1 2 3 3 1 2 3 3 2 3 2 1 2 5 5 3 1 4 4 3 4 2 2 7 2 3 1 3 1 2 6 0 4 3 1 3 4 5 3 4 3 4 1 1 5 3 0 2 5 3 1 1 5 1 2 2 4 4 1 1 3 2 1 1 4 5 2 4 3 2 3 1 2 3 3 2 2 2 5 2 3 5 4 4 4 3 1 3 5 3 1 4 3 5 3 2 2 3 4 4 1 1 4 3 2 0 1 2 2 0 6 3 3 0 3 2 2 1 4 3 4 2 3 4 2 2 3 2 2 2 3 2 5 3 3 3 4 3 2 3 3 4 4 0 2 1 1 3 5 1 2 5 1 3 2 3 1 5 6 2 3 3 3 3 3 5 3 1 4 0 2 2 0 2 5 2 5 1 2 4 1 3 3 2 4 2 3 3 2 5 1 3 1 0 1 4 0 2 4 4 0 1 1 0 4 2 4 3 2 2 2 5 3 4 1 1 2 2 6 2 3 4 3 3 3 1 0 1 2 3 3 2 1 2 3 0 1 2 2 2 3 2 5 5 2 2 4 1 2 1 1 3 2 5 2 1 4 2 1 4 4 4 4 1 3 4 1 2 1 6 4 0 2 3 3 2 3 3 2 2 1 2 2 1 2 2 2 3 3 4 3 2 0 1 3 2 2 2 3 2 2 3 3 2 1 1 3 0 1 2 1 1 5 3 0 1 1 0 0 2 3 5 0 2 2 0 2 3 2 4 2 2 2 3 2 3 3 2 4 0 3 3 1 0 2 2 3 2 4 2 3 1 2 3 1 3 2 3 4 4 3 2 1 2 5 0 1 4 4 2 3 1 3 3 1 4 5 3 1 2 4 2 1 3 4 2 2 1 2 5 4 2 1 4 3 2 2 3 3 3 4 2 4 4 2 2 1 4 3 3 2 2 2 4 3 1 1 2 4 3 1 4 3 2 2 1 5 2 3 2 2 3 4 4 3 3 3 2 3 4 2 3 1 3 3 1 1 2 4 3 1 3 2 4 3 1 1 2 1 2 3 3 5 5 4 2 1 1 2 2 2 1 2 1 1 3 1 0 0 3 2 5 5 4 1 4 3 3 2 3 1 4 4 3 3 3 1 2 1 2 4 1 4 4 0 1 1 3 1 5 2 4 2 2 3 1 4 1 2 4 3 3 1 2 0 4 3 3 3 3 3 2 3 4 1 2 3 3 4 4 2 1 2 3 4 3 1 3 2 2 3 3 1\n",
      "G: 2 2 4 2 3 3 3 3 3 3 2 4 2 2 4 0 4 4 1 5 2 2 3 1 1 0 1 1 1 0 6 0 1 2 3 2 2 2 2 4 2 4 1 3 3 2 3 3 4 2 3 4 4 1 3 4 3 2 1 3 3 3 4 1 2 2 4 2 2 3 3 3 1 2 1 2 1 4 2 3 1 4 5 1 4 1 2 2 2 1 5 5 2 2 4 2 1 0 2 3 2 1 2 1 1 1 3 2 0 3 3 2 1 3 3 2 1 2 2 3 5 2 3 1 3 3 2 2 6 1 3 3 1 3 3 3 3 4 2 0 2 2 3 2 3 1 4 3 2 3 2 2 3 5 3 0 4 7 2 3 2 2 3 2 4 2 3 5 3 4 1 4 4 1 3 4 2 2 5 4 5 1 2 1 2 2 3 4 1 2 1 2 4 1 4 1 3 4 1 3 2 3 4 2 2 3 0 2 1 5 3 3 3 4 4 3 3 4 1 2 3 4 4 1 2 4 2 3 1 5 3 1 1 2 2 2 3 3 4 4 2 2 2 1 2 3 1 1 1 4 1 3 1 2 3 3 2 5 4 1 1 3 1 2 1 2 3 1 2 5 1 1 1 1 2 3 3 1 4 1 2 1 1 4 2 1 2 2 3 3 2 2 2 4 2 2 3 2 3 4 0 2 1 1 1 2 3 3 4 4 3 5 2 2 3 1 4 2 2 1 2 1 4 3 4 1 3 5 4 2 3 2 4 2 3 4 1 4 4 1 4 4 2 1 2 2 2 4 4 2 1 4 5 4 6 2 4 3 3 3 4 1 2 3 2 3 3 1 3 3 2 3 2 2 3 4 3 1 4 4 2 5 1 4 4 2 3 5 1 1 1 4 2 3 2 5 2 4 2 2 0 1 3 2 1 5 1 2 2 3 2 1 0 2 1 1 3 3 2 4 2 6 2 1 2 4 4 1 4 1 2 2 0 3 2 3 3 3 2 3 6 5 1 2 2 3 2 4 1 4 1 6 4 2 0 2 5 1 3 2 3 3 4 5 2 2 2 1 2 4 3 4 2 1 2 5 1 4 2 3 5 2 1 2 5 6 2 2 1 2 1 3 1 4 3 6 2 1 1 1 3 1 3 0 2 3 2 2 6 3 4 2 2 3 5 4 0 4 4 2 2 4 5 2 2 5 1 1 3 3 2 1 2 1 2 3 2 4 3 1 3 3 3 2 2 2 4 2 1 3 2 1 3 2 2 1 2 2 6 4 1 6 4 2 4 3 1 1 2 2 5 2 3 5 3 3 5 2 4 3 2 6 4 2 1 3 3 2 2 2 2 3 0 3 5 3 3 2 1 4 2 4 4 4 2 5 2 2 0 4 4 3 2 3 3 1 4 5 3 3 1 3 4 0 2 2 4 1 0 2 0 2 1 1 5 3 3 3 3 1 4 2 3 3 2 4 1 4 0 2 3 1 1 4 2 2 5 5 5 3 1 4 0 3 4 2 1 4 1 2 2 1 2 2 2 4 4 3 2 1 1 4 2 2 3 2 2 3 3 2 4 1 3 4 2 2 5 3 4 1 4 2 2 1 5 3 4 2 4 1 1 2 3 5 5 3 5 2 4 4 2 0 2 1 1 3 1 0 3 5 0 1 2 5 3 4 3 4 3 4 3 2 2 2 2 3 1 3 3 2 2 4 4 5 3 4 1 2 4 4 3 4 2 2 3 4 3 4 2 1 3 1 2 0 3 1 0 1 0 0 3 1 2 5 3 3 2 4 4 4 1 3 2 3 0 4 3 1 1 1 3 2 3 1 3 3 2 3 4 2 4 2 3 3 2 3 0 4 2 3 4 0 3 2 3 5 2 3 0 4 1 2 3 0 3 4 4 4 3 5 2 2 4 2 3 2 3 4 0 2 0 3 4 2 3 1 3 1 4 3 1 2 0 2 3 4 1 6 1 2 2 2 2 4 2 2 4 3 3 2 4 2 4 3 3 4 3 3 4 4 0 2 1 1 1 1 2 2 1 3 2 3 3 0 3 1 1 1 5 2 4 1 0 2 2 3 3 3 3 4 2 2 4 1 2 4 2 2 2 3 2 2 4 2 0 4 3 3 2 3 2 1 2 4 3 4 3 0 1 2 7 1 1 2 1 6 2 4 3 3 4 1\n",
      "T: 1 2 3 2 1 2 1 3 3 1 2 2 4 2 2 3 2 4 3 1 2 5 4 1 1 6 3 3 4 3 0 2 4 2 2 2 4 3 4 3 2 2 3 4 2 3 4 1 2 4 1 3 3 4 1 4 1 1 3 2 4 1 3 4 3 2 1 5 4 3 6 1 4 1 3 1 1 1 0 4 1 2 3 2 2 4 1 3 2 1 1 4 4 4 3 5 1 2 3 2 3 3 4 2 6 5 1 2 1 3 1 4 3 3 3 3 1 2 4 1 1 2 2 2 1 3 3 4 2 3 1 0 1 3 3 5 2 3 2 1 2 1 1 1 2 3 2 4 5 2 3 4 3 0 3 3 2 0 4 1 5 3 2 4 3 2 1 1 0 2 2 2 3 5 1 3 4 3 0 1 3 4 2 5 4 1 3 3 4 2 3 3 1 2 2 2 2 1 2 1 4 4 2 3 4 1 4 5 2 2 1 1 4 0 2 3 4 3 5 2 2 1 1 2 3 5 5 3 4 1 3 3 3 2 2 3 2 2 1 1 1 3 3 3 4 5 5 3 2 3 5 2 1 4 3 2 1 3 1 3 2 1 2 4 3 4 4 3 3 0 3 3 4 3 4 2 3 2 2 0 3 2 2 0 1 4 4 2 0 4 4 2 4 3 3 5 2 5 0 1 1 2 1 1 2 4 1 3 3 5 2 1 3 2 5 4 0 0 2 4 3 1 3 4 1 1 1 0 3 4 5 2 3 4 1 0 2 3 4 3 0 2 1 3 2 2 6 2 2 3 3 1 1 1 0 2 2 3 1 2 2 4 1 0 1 2 2 3 3 2 5 3 1 5 4 2 1 2 1 1 4 0 4 3 1 5 5 0 3 3 5 2 1 3 2 0 3 2 5 2 3 1 1 2 5 1 3 4 2 5 6 1 6 4 4 2 3 4 2 4 2 1 2 3 2 4 1 3 2 2 2 4 2 2 3 3 3 4 2 1 3 0 2 3 4 2 1 1 1 3 3 3 3 2 5 3 1 2 3 4 0 1 2 1 3 3 2 5 0 1 2 3 3 2 0 2 2 0 3 1 2 5 3 3 1 2 4 2 4 1 1 2 3 0 3 2 3 0 6 6 1 4 1 4 3 2 4 3 0 2 2 1 4 3 3 3 3 2 3 0 4 3 4 1 3 0 3 2 2 3 3 4 2 4 4 3 3 0 2 4 2 1 1 5 3 2 0 3 5 2 2 2 3 2 1 4 2 1 1 3 3 1 2 2 1 3 0 1 1 3 2 4 2 0 1 0 3 2 3 4 4 0 0 1 3 2 1 1 3 4 2 1 3 1 1 3 1 2 1 3 4 3 2 3 2 1 1 1 4 1 2 3 3 1 3 3 2 3 1 4 3 1 1 2 4 2 2 2 2 3 5 1 3 1 1 4 3 1 4 4 1 3 2 1 3 0 4 1 6 3 4 2 4 2 3 2 3 2 3 4 3 1 2 4 2 2 2 3 1 2 2 3 5 4 4 2 2 4 1 2 4 2 2 2 3 2 3 3 2 3 2 1 4 2 4 3 1 4 0 2 1 4 6 3 2 2 3 3 1 3 4 3 1 3 1 0 2 3 2 3 4 1 3 3 5 3 3 4 1 0 2 5 4 2 4 2 2 3 1 2 2 2 2 4 4 3 4 1 1 1 3 3 3 2 2 2 4 3 3 1 5 2 4 4 2 2 1 2 3 1 3 4 2 3 5 5 4 2 5 4 4 4 2 2 1 0 2 4 2 0 4 5 3 1 6 2 2 6 1 4 3 5 2 3 4 0 3 2 1 3 2 3 2 2 4 4 3 2 3 4 3 3 0 3 3 3 2 2 4 2 4 4 2 2 6 1 2 2 2 1 2 2 0 3 2 3 1 0 3 3 2 1 2 2 3 5 2 4 3 4 4 2 2 4 5 2 5 1 3 5 2 3 1 1 2 2 4 2 2 4 4 2 1 2 1 3 3 1 2 2 3 2 3 4 3 1 3 3 3 2 1 3 4 4 2 3 6 4 0 2 3 3 3 3 2 3 3 3 0 3 1 4 1 2 5 1 3 3 3 2 3 3 1 7 4 2 1 2 3 0 3 4 3 3 4 2 3 3 2 6 2 5 4 1 3 3 2 3 3 0 0 4\n"
     ]
    }
   ],
   "source": [
    "import numpy as np\n",
    "\n",
    "def Contar_ATCG(arquivo):\n",
    "    gene = arquivo.split('>')[1:]\n",
    "    gene = [item.split('\\n') for item in gene]\n",
    "    gene = [''.join(lista[1:]) for lista in gene if len(lista) > 1]\n",
    "    A, T, C, G = np.zeros(len(gene[0]), dtype=int), np.zeros(len(gene[0]), dtype=int), np.zeros(len(gene[0]), dtype=int), np.zeros(len(gene[0]), dtype=int)\n",
    "    for i in range(len(gene)):\n",
    "        for j in range(len(gene[i])):\n",
    "            if gene[i][j] == 'A':\n",
    "                A[j] += 1\n",
    "            elif gene[i][j] == 'T':\n",
    "                T[j] += 1\n",
    "            elif gene[i][j] == 'C':\n",
    "                C[j] += 1\n",
    "            elif gene[i][j] == 'G':\n",
    "                G[j] += 1\n",
    "    consenso = ''\n",
    "    for i in range(len(gene[0])):\n",
    "        if A[i] >= T[i] and A[i] >= C[i] and A[i] >= G[i]:\n",
    "            consenso += 'A'\n",
    "        elif T[i] >= A[i] and T[i] >= C[i] and T[i] >= G[i]:\n",
    "            consenso += 'T'\n",
    "        elif C[i] >= A[i] and C[i] >= T[i] and C[i] >= G[i]:\n",
    "            consenso += 'C'\n",
    "        else:\n",
    "            consenso += 'G'\n",
    "    return f\"{consenso}\\nA: {' '.join(map(str, A))}\\nC: {' '.join(map(str, C))}\\nG: {' '.join(map(str, G))}\\nT: {' '.join(map(str, T))}\"\n",
    "\n",
    "texto = Contar_ATCG(entrada)\n",
    "print(texto)"
   ]
  },
  {
   "cell_type": "code",
   "execution_count": 27,
   "id": "caeef181",
   "metadata": {},
   "outputs": [],
   "source": [
    "# Caminho para o arquivo dentro da pasta Output\n",
    "caminho = \"C:\\\\Users\\\\usuario\\\\OneDrive\\\\Área de Trabalho\\\\Nova pasta\\\\ROSALIND-Desafios\\\\Saidas\\\\rosalind_cons_output.txt\"\n",
    "\n",
    "with open(caminho, \"w\", encoding=\"utf-8\") as arquivo:\n",
    "    arquivo.write(str(texto))"
   ]
  }
 ],
 "metadata": {
  "kernelspec": {
   "display_name": "Python 3",
   "language": "python",
   "name": "python3"
  },
  "language_info": {
   "codemirror_mode": {
    "name": "ipython",
    "version": 3
   },
   "file_extension": ".py",
   "mimetype": "text/x-python",
   "name": "python",
   "nbconvert_exporter": "python",
   "pygments_lexer": "ipython3",
   "version": "3.13.2"
  }
 },
 "nbformat": 4,
 "nbformat_minor": 5
}
