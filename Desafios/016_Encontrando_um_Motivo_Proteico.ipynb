{
 "cells": [
  {
   "cell_type": "markdown",
   "id": "9fe9ee21",
   "metadata": {},
   "source": [
    "# Motivo Implica Função"
   ]
  },
  {
   "cell_type": "markdown",
   "id": "5b34a390",
   "metadata": {},
   "source": [
    "Como mencionado em “Traduzindo RNA em Proteína”, proteínas executam toda função prática na célula. Uma unidade estrutural e funcional da proteína é um domínio proteico: em termos da estrutura primária da proteína, o domínio é um intervalo de aminoácidos que pode evoluir e funcionar independentemente.\n",
    "\n",
    "Cada domínio normalmente corresponde a uma única função da proteína (por exemplo, ligar a proteína ao DNA, criar ou quebrar ligações químicas específicas, etc.). Algumas proteínas, como a mioglobina e o complexo citocromo, possuem apenas um domínio, mas muitas proteínas são multifuncionais e, portanto, possuem vários domínios. É até possível fundir artificialmente diferentes domínios em uma molécula de proteína com propriedades definidas, criando uma proteína quimérica.\n",
    "\n",
    "Assim como as espécies, proteínas podem evoluir, formando grupos homólogos chamados famílias de proteínas. Proteínas de uma mesma família geralmente têm o mesmo conjunto de domínios, desempenhando funções semelhantes; veja a Figura 1.\n",
    "\n",
    "![Figura 1](https://rosalind.info/media/problems/mprt/cyclophilines.png)\n",
    "\n",
    "> Figura 1. A família humana de ciclofilinas, representada pelas estruturas dos domínios isomerases de alguns de seus membros.\n",
    "\n",
    "Um componente de um domínio essencial para sua função é chamado de motivo, um termo que em geral tem o mesmo significado que em ácidos nucleicos, embora muitos outros termos também sejam usados (blocos, assinaturas, impressões digitais, etc.). Normalmente, motivos proteicos são conservadores do ponto de vista evolutivo, o que significa que aparecem com poucas alterações em diferentes espécies.\n",
    "\n",
    "As proteínas são identificadas em diferentes laboratórios ao redor do mundo e reunidas em bancos de dados de livre acesso. Um repositório central de dados de proteínas é o UniProt, que fornece anotações detalhadas sobre proteínas, incluindo descrição de função, estrutura de domínios e modificações pós-traducionais. O UniProt também oferece suporte à busca por similaridade de proteínas, análise taxonômica e citações da literatura.\n",
    "\n",
    "Link: [Independent Alleles](https://rosalind.info/problems/lia/)"
   ]
  },
  {
   "cell_type": "markdown",
   "id": "d2d7b884",
   "metadata": {},
   "source": [
    "### **Problema**\n",
    "\n",
    "Para permitir a presença de suas formas variantes, um motivo proteico é representado por uma notação abreviada da seguinte forma: [XY] significa \"X ou Y\" e {X} significa \"qualquer aminoácido exceto X\". Por exemplo, o motivo de N-glicosilação é escrito como N{P}[ST]{P}.\n",
    "\n",
    "Você pode ver a descrição completa e as características de uma proteína específica pelo seu ID de acesso \"uniprot_id\" no banco de dados UniProt, inserindo o número de ID em\n",
    "\n",
    "http://www.uniprot.org/uniprot/uniprot_id\n",
    "\n",
    "Alternativamente, você pode obter uma sequência de proteína no formato FASTA acessando\n",
    "\n",
    "http://www.uniprot.org/uniprot/uniprot_id.fasta\n",
    "\n",
    "Por exemplo, os dados da proteína B5ZC00 podem ser encontrados em http://www.uniprot.org/uniprot/B5ZC00.\n",
    "\n",
    "**Dado**: No máximo 15 IDs de acesso ao Banco de Dados de Proteínas UniProt.\n",
    "\n",
    "**Retorne**: Para cada proteína que possuir o motivo de N-glicosilação, exiba seu ID de acesso seguido por uma lista de posições na sequência da proteína onde o motivo pode ser encontrado."
   ]
  },
  {
   "cell_type": "code",
   "execution_count": 25,
   "id": "ae6d3e3a",
   "metadata": {},
   "outputs": [],
   "source": [
    "#Insira o caminho abaixo\n",
    "caminho = \"C:\\\\Users\\\\usuario\\\\OneDrive\\\\Área de Trabalho\\\\Nova pasta\\\\ROSALIND-Desafios\\\\Dados\\\\rosalind_mprt.txt\"\n",
    "\n",
    "with open(caminho, \"r\", encoding=\"utf-8\") as arquivo:\n",
    "    entrada = arquivo.read()"
   ]
  },
  {
   "cell_type": "code",
   "execution_count": 26,
   "id": "f31b92f0",
   "metadata": {},
   "outputs": [
    {
     "name": "stdout",
     "output_type": "stream",
     "text": [
      "A9QYR8\n",
      "183 210\n",
      "P02790_HEMO_HUMAN\n",
      "64 187 240 246 453\n",
      "P10643_CO7_HUMAN\n",
      "202 754\n",
      "P98119_URT1_DESRO\n",
      "153 398\n",
      "A6UUD2\n",
      "155 273\n",
      "A3N0C7\n",
      "59\n",
      "Q81QB7\n",
      "27\n",
      "P35446_FSPO_RAT\n",
      "214 681\n",
      "P10761_ZP3_MOUSE\n",
      "146 273 304 327 330\n"
     ]
    }
   ],
   "source": [
    "import requests\n",
    "import re\n",
    "\n",
    "def encontrar_motivo_proteico(entrada):\n",
    "    entrada = entrada.split('\\n')\n",
    "    proteina = r'(?=(N[^P][ST][^P]))'\n",
    "    saida = \"\"\n",
    "    for uniprot_id in entrada:\n",
    "        uniprot_id_cod = uniprot_id.split('_')[0]\n",
    "        url = f\"https://www.uniprot.org/uniprot/{uniprot_id_cod}.fasta\"\n",
    "        response = requests.get(url)\n",
    "        if response.status_code == 200:\n",
    "            fasta = response.text.split('\\n', 1)[1].replace('\\n', '')\n",
    "            matches = [m.start() + 1 for m in re.finditer(proteina, fasta)]\n",
    "            if len(matches) > 0:\n",
    "                saida += f\"{uniprot_id}\\n\"\n",
    "                saida += ' '.join(map(str, matches)) + '\\n'\n",
    "        else:\n",
    "            continue\n",
    "    saida = saida.strip()\n",
    "    return saida\n",
    "\n",
    "texto = encontrar_motivo_proteico(entrada)\n",
    "print(texto)"
   ]
  },
  {
   "cell_type": "code",
   "execution_count": 27,
   "id": "f42ebd59",
   "metadata": {},
   "outputs": [],
   "source": [
    "# Caminho para o arquivo dentro da pasta Output\n",
    "caminho = \"C:\\\\Users\\\\usuario\\\\OneDrive\\\\Área de Trabalho\\\\Nova pasta\\\\ROSALIND-Desafios\\\\Saidas\\\\rosalind_mprt_output.txt\"\n",
    "\n",
    "with open(caminho, \"w\", encoding=\"utf-8\") as arquivo:\n",
    "    arquivo.write(str(texto))"
   ]
  }
 ],
 "metadata": {
  "kernelspec": {
   "display_name": "Python 3",
   "language": "python",
   "name": "python3"
  },
  "language_info": {
   "codemirror_mode": {
    "name": "ipython",
    "version": 3
   },
   "file_extension": ".py",
   "mimetype": "text/x-python",
   "name": "python",
   "nbconvert_exporter": "python",
   "pygments_lexer": "ipython3",
   "version": "3.13.2"
  }
 },
 "nbformat": 4,
 "nbformat_minor": 5
}
